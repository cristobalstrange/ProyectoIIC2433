{
 "cells": [
  {
   "cell_type": "markdown",
   "id": "c96e914d-34ea-4d4f-a327-66fd07aac60c",
   "metadata": {},
   "source": [
    "# Entrega 3 Proyecto Final – Primeros Análisis<br>\n",
    "#### Integrantes:\n",
    "- Daniel Cea\n",
    "- Cristobal Strange\n",
    "- Antonia Painen\n",
    "- Aleksander Humenyi"
   ]
  },
  {
   "cell_type": "markdown",
   "id": "cce26a9d-46a8-49d0-a782-7de1c84946bf",
   "metadata": {},
   "source": [
    "### 2.1. Definición del Problema\n",
    "\n",
    "En los últimos años, se ha registrado un notable incremento en los precios de las viviendas, lo que ha generado dificultades crecientes para que las personas puedan acceder a una propiedad. Esta situación ha llevado a que los potenciales compradores deban considerar más factores al momento de elegir una vivienda, con el fin de optimizar su inversión.\n",
    "\n",
    "El objetivo de este proyecto es proporcionar herramientas que ayuden a quienes están interesados en adquirir una vivienda en la Región Metropolitana. Utilizando análisis de datos, se busca generar información valiosa que permita a los compradores tomar decisiones más informadas y maximizar el valor de su compra en un contexto de mercado con precios al alza.\n",
    "\n",
    "En esta entrega del proyecto, nos enfocaremos en describir en detalle los datos disponibles, los cuales incluyen información sobre las viviendas en venta en la Región Metropolitana, y presentaremos un plan preliminar de análisis que será extendido en las fases siguientes. El análisis abarcará tanto características de ciertos patrones de precios, para identificar tendencias que puedan beneficiar a los futuros compradores.\n",
    "\n",
    "##### *¿Qué estrategias pueden emplear los compradores para maximizar el valor de su compra de vivienda en un mercado con precios en alza?*\n",
    "\n"
   ]
  },
  {
   "cell_type": "markdown",
   "id": "c6f2c19f-3a1d-47b5-a3ac-0e107101ada6",
   "metadata": {},
   "source": [
    "### 2.2. Impacto del Trabajo\n",
    "\n",
    "Dado el constante aumento en los precios de las viviendas, resulta cada vez más crucial para los compradores tomar decisiones informadas al momento de adquirir una propiedad. El mercado inmobiliario actual presenta desafíos significativos, especialmente en áreas urbanas donde la oferta es limitada y la demanda sigue creciendo. Por ello, conocer los factores que influyen en los precios y analizar las características de las viviendas disponibles se vuelve esencial para maximizar el valor de la inversión. En este contexto, contar con información precisa y actualizada puede marcar la diferencia entre una compra exitosa y una que no satisfaga las expectativas a largo plazo.\n"
   ]
  },
  {
   "cell_type": "markdown",
   "id": "3214c567-485a-4da8-956c-05b6bde96cc2",
   "metadata": {},
   "source": [
    "### 2.3. Datos\n",
    "Los datos que elegimos para el proyecto es sobre casas que se encuentran a la venta en la Región Metropolitana, estos datos fueron extraídos mediante web scraping a una página de publicación de viviendas en venta, [Chile Propiedades](https://chilepropiedades.cl), y los datos extraídos de la página los obtuvimos  [aquí.](https://www.kaggle.com/datasets/luisfelipetn/valor-casas-usadas-chile-rm-08032023)\n",
    "\n",
    "Este dataset es relevante para el análisis del mercado inmobiliario, ya que refleja características importantes para los compradores, como ubicación, precio, tamaño de las propiedades y cantidad de baños y habitaciones. Con esto tenemos una amplia gama de factores clave que influyen en los precios, permitiendo un análisis exhaustivo del comportamiento del mercado en un área de alta demanda y constante alza en los precios de vivienda."
   ]
  },
  {
   "cell_type": "code",
   "execution_count": 105,
   "id": "8e448966-e172-45af-a236-781442dbbf0e",
   "metadata": {},
   "outputs": [],
   "source": [
    "import pandas as pd\n",
    "import seaborn as sns\n",
    "import numpy as np\n",
    "from sklearn.model_selection import train_test_split\n",
    "from sklearn.ensemble import RandomForestRegressor\n",
    "from sklearn.linear_model import LinearRegression\n",
    "from sklearn.metrics import mean_squared_error, mean_absolute_error, r2_score\n"
   ]
  },
  {
   "cell_type": "code",
   "execution_count": 78,
   "id": "6fb2c037",
   "metadata": {},
   "outputs": [
    {
     "data": {
      "text/html": [
       "<div>\n",
       "<style scoped>\n",
       "    .dataframe tbody tr th:only-of-type {\n",
       "        vertical-align: middle;\n",
       "    }\n",
       "\n",
       "    .dataframe tbody tr th {\n",
       "        vertical-align: top;\n",
       "    }\n",
       "\n",
       "    .dataframe thead th {\n",
       "        text-align: right;\n",
       "    }\n",
       "</style>\n",
       "<table border=\"1\" class=\"dataframe\">\n",
       "  <thead>\n",
       "    <tr style=\"text-align: right;\">\n",
       "      <th></th>\n",
       "      <th>Price_CLP</th>\n",
       "      <th>Dorms</th>\n",
       "      <th>Baths</th>\n",
       "      <th>Built Area</th>\n",
       "      <th>Total Area</th>\n",
       "      <th>Parking</th>\n",
       "    </tr>\n",
       "  </thead>\n",
       "  <tbody>\n",
       "    <tr>\n",
       "      <th>count</th>\n",
       "      <td>9.291000e+03</td>\n",
       "      <td>9202.000000</td>\n",
       "      <td>9138.000000</td>\n",
       "      <td>9.013000e+03</td>\n",
       "      <td>9057.000000</td>\n",
       "      <td>6371.000000</td>\n",
       "    </tr>\n",
       "    <tr>\n",
       "      <th>mean</th>\n",
       "      <td>3.925134e+08</td>\n",
       "      <td>4.027059</td>\n",
       "      <td>2.749726</td>\n",
       "      <td>6.091603e+03</td>\n",
       "      <td>890.977145</td>\n",
       "      <td>2.682467</td>\n",
       "    </tr>\n",
       "    <tr>\n",
       "      <th>std</th>\n",
       "      <td>4.036515e+08</td>\n",
       "      <td>1.661439</td>\n",
       "      <td>1.478629</td>\n",
       "      <td>5.274367e+05</td>\n",
       "      <td>11291.403141</td>\n",
       "      <td>2.221227</td>\n",
       "    </tr>\n",
       "    <tr>\n",
       "      <th>min</th>\n",
       "      <td>3.700000e+07</td>\n",
       "      <td>1.000000</td>\n",
       "      <td>1.000000</td>\n",
       "      <td>1.000000e+00</td>\n",
       "      <td>1.000000</td>\n",
       "      <td>1.000000</td>\n",
       "    </tr>\n",
       "    <tr>\n",
       "      <th>25%</th>\n",
       "      <td>1.282067e+08</td>\n",
       "      <td>3.000000</td>\n",
       "      <td>2.000000</td>\n",
       "      <td>9.000000e+01</td>\n",
       "      <td>134.000000</td>\n",
       "      <td>1.000000</td>\n",
       "    </tr>\n",
       "    <tr>\n",
       "      <th>50%</th>\n",
       "      <td>2.345135e+08</td>\n",
       "      <td>4.000000</td>\n",
       "      <td>3.000000</td>\n",
       "      <td>1.310000e+02</td>\n",
       "      <td>230.000000</td>\n",
       "      <td>2.000000</td>\n",
       "    </tr>\n",
       "    <tr>\n",
       "      <th>75%</th>\n",
       "      <td>5.267534e+08</td>\n",
       "      <td>5.000000</td>\n",
       "      <td>3.000000</td>\n",
       "      <td>2.090000e+02</td>\n",
       "      <td>480.000000</td>\n",
       "      <td>3.000000</td>\n",
       "    </tr>\n",
       "    <tr>\n",
       "      <th>max</th>\n",
       "      <td>4.870665e+09</td>\n",
       "      <td>35.000000</td>\n",
       "      <td>29.000000</td>\n",
       "      <td>5.000000e+07</td>\n",
       "      <td>720000.000000</td>\n",
       "      <td>26.000000</td>\n",
       "    </tr>\n",
       "  </tbody>\n",
       "</table>\n",
       "</div>"
      ],
      "text/plain": [
       "          Price_CLP        Dorms        Baths    Built Area     Total Area  \\\n",
       "count  9.291000e+03  9202.000000  9138.000000  9.013000e+03    9057.000000   \n",
       "mean   3.925134e+08     4.027059     2.749726  6.091603e+03     890.977145   \n",
       "std    4.036515e+08     1.661439     1.478629  5.274367e+05   11291.403141   \n",
       "min    3.700000e+07     1.000000     1.000000  1.000000e+00       1.000000   \n",
       "25%    1.282067e+08     3.000000     2.000000  9.000000e+01     134.000000   \n",
       "50%    2.345135e+08     4.000000     3.000000  1.310000e+02     230.000000   \n",
       "75%    5.267534e+08     5.000000     3.000000  2.090000e+02     480.000000   \n",
       "max    4.870665e+09    35.000000    29.000000  5.000000e+07  720000.000000   \n",
       "\n",
       "           Parking  \n",
       "count  6371.000000  \n",
       "mean      2.682467  \n",
       "std       2.221227  \n",
       "min       1.000000  \n",
       "25%       1.000000  \n",
       "50%       2.000000  \n",
       "75%       3.000000  \n",
       "max      26.000000  "
      ]
     },
     "execution_count": 78,
     "metadata": {},
     "output_type": "execute_result"
    }
   ],
   "source": [
    "df_propiedades = pd.read_csv(\"Data/2023-07-18 Propiedades Web Scrape.csv\")\n",
    "df_propiedades = df_propiedades[[\"Price_CLP\",\"Comuna\",\"Dorms\",\"Baths\",\"Built Area\",\"Total Area\",\"Parking\",\"Ubicacion\",\"Realtor\"]]\n",
    "\n",
    "df_propiedades.describe()"
   ]
  },
  {
   "cell_type": "code",
   "execution_count": 79,
   "id": "4f6a0a7d",
   "metadata": {},
   "outputs": [
    {
     "name": "stdout",
     "output_type": "stream",
     "text": [
      "<class 'pandas.core.frame.DataFrame'>\n",
      "RangeIndex: 9291 entries, 0 to 9290\n",
      "Data columns (total 9 columns):\n",
      " #   Column      Non-Null Count  Dtype  \n",
      "---  ------      --------------  -----  \n",
      " 0   Price_CLP   9291 non-null   int64  \n",
      " 1   Comuna      9291 non-null   object \n",
      " 2   Dorms       9202 non-null   float64\n",
      " 3   Baths       9138 non-null   float64\n",
      " 4   Built Area  9013 non-null   float64\n",
      " 5   Total Area  9057 non-null   float64\n",
      " 6   Parking     6371 non-null   float64\n",
      " 7   Ubicacion   9291 non-null   object \n",
      " 8   Realtor     8125 non-null   object \n",
      "dtypes: float64(5), int64(1), object(3)\n",
      "memory usage: 653.4+ KB\n"
     ]
    }
   ],
   "source": [
    "df_propiedades.info()"
   ]
  },
  {
   "cell_type": "code",
   "execution_count": 80,
   "id": "96ef3618",
   "metadata": {},
   "outputs": [
    {
     "data": {
      "text/html": [
       "<div>\n",
       "<style scoped>\n",
       "    .dataframe tbody tr th:only-of-type {\n",
       "        vertical-align: middle;\n",
       "    }\n",
       "\n",
       "    .dataframe tbody tr th {\n",
       "        vertical-align: top;\n",
       "    }\n",
       "\n",
       "    .dataframe thead th {\n",
       "        text-align: right;\n",
       "    }\n",
       "</style>\n",
       "<table border=\"1\" class=\"dataframe\">\n",
       "  <thead>\n",
       "    <tr style=\"text-align: right;\">\n",
       "      <th></th>\n",
       "      <th>Price_CLP</th>\n",
       "      <th>Comuna</th>\n",
       "      <th>Dorms</th>\n",
       "      <th>Baths</th>\n",
       "      <th>Built Area</th>\n",
       "      <th>Total Area</th>\n",
       "      <th>Parking</th>\n",
       "      <th>Ubicacion</th>\n",
       "      <th>Realtor</th>\n",
       "    </tr>\n",
       "  </thead>\n",
       "  <tbody>\n",
       "    <tr>\n",
       "      <th>4144</th>\n",
       "      <td>37000000</td>\n",
       "      <td>SanBernardo</td>\n",
       "      <td>2.0</td>\n",
       "      <td>1.0</td>\n",
       "      <td>42.0</td>\n",
       "      <td>42.0</td>\n",
       "      <td>2.0</td>\n",
       "      <td>CerroCantillanaesquinaCondell</td>\n",
       "      <td>Urbalia</td>\n",
       "    </tr>\n",
       "    <tr>\n",
       "      <th>3539</th>\n",
       "      <td>38000000</td>\n",
       "      <td>PuenteAlto</td>\n",
       "      <td>2.0</td>\n",
       "      <td>1.0</td>\n",
       "      <td>65.0</td>\n",
       "      <td>60.0</td>\n",
       "      <td>NaN</td>\n",
       "      <td>Laserena/canaljardinalto</td>\n",
       "      <td>Unne</td>\n",
       "    </tr>\n",
       "    <tr>\n",
       "      <th>8261</th>\n",
       "      <td>38500000</td>\n",
       "      <td>PuenteAlto</td>\n",
       "      <td>3.0</td>\n",
       "      <td>2.0</td>\n",
       "      <td>80.0</td>\n",
       "      <td>80.0</td>\n",
       "      <td>NaN</td>\n",
       "      <td>Deltranque/elfrutoote.</td>\n",
       "      <td>Procasa Adrián Ulloa Propiedades</td>\n",
       "    </tr>\n",
       "    <tr>\n",
       "      <th>3712</th>\n",
       "      <td>39000000</td>\n",
       "      <td>Lampa</td>\n",
       "      <td>2.0</td>\n",
       "      <td>1.0</td>\n",
       "      <td>42.0</td>\n",
       "      <td>NaN</td>\n",
       "      <td>2.0</td>\n",
       "      <td>Pje.ElSalvador686</td>\n",
       "      <td>NaN</td>\n",
       "    </tr>\n",
       "    <tr>\n",
       "      <th>5686</th>\n",
       "      <td>39000000</td>\n",
       "      <td>Colina</td>\n",
       "      <td>2.0</td>\n",
       "      <td>1.0</td>\n",
       "      <td>55.0</td>\n",
       "      <td>63.0</td>\n",
       "      <td>NaN</td>\n",
       "      <td>Casacon2°PisoenConjuntoElEstero</td>\n",
       "      <td>Corretajes Prosal</td>\n",
       "    </tr>\n",
       "    <tr>\n",
       "      <th>...</th>\n",
       "      <td>...</td>\n",
       "      <td>...</td>\n",
       "      <td>...</td>\n",
       "      <td>...</td>\n",
       "      <td>...</td>\n",
       "      <td>...</td>\n",
       "      <td>...</td>\n",
       "      <td>...</td>\n",
       "      <td>...</td>\n",
       "    </tr>\n",
       "    <tr>\n",
       "      <th>2382</th>\n",
       "      <td>3607900000</td>\n",
       "      <td>Santiago</td>\n",
       "      <td>10.0</td>\n",
       "      <td>8.0</td>\n",
       "      <td>NaN</td>\n",
       "      <td>600.0</td>\n",
       "      <td>NaN</td>\n",
       "      <td>TucapelJiménez</td>\n",
       "      <td>NaN</td>\n",
       "    </tr>\n",
       "    <tr>\n",
       "      <th>9288</th>\n",
       "      <td>3788295000</td>\n",
       "      <td>LasCondes</td>\n",
       "      <td>5.0</td>\n",
       "      <td>7.0</td>\n",
       "      <td>460.0</td>\n",
       "      <td>4925.0</td>\n",
       "      <td>8.0</td>\n",
       "      <td>CaminoLasFlores/CaminoPiedraRoja</td>\n",
       "      <td>Tsi Property</td>\n",
       "    </tr>\n",
       "    <tr>\n",
       "      <th>8951</th>\n",
       "      <td>3968690000</td>\n",
       "      <td>Vitacura</td>\n",
       "      <td>NaN</td>\n",
       "      <td>NaN</td>\n",
       "      <td>5000.0</td>\n",
       "      <td>5000.0</td>\n",
       "      <td>NaN</td>\n",
       "      <td>Locurro</td>\n",
       "      <td>Tsi Property</td>\n",
       "    </tr>\n",
       "    <tr>\n",
       "      <th>6659</th>\n",
       "      <td>4040848000</td>\n",
       "      <td>LoBarnechea</td>\n",
       "      <td>5.0</td>\n",
       "      <td>5.0</td>\n",
       "      <td>600.0</td>\n",
       "      <td>2800.0</td>\n",
       "      <td>NaN</td>\n",
       "      <td>Dehesacentral</td>\n",
       "      <td>Berrios Zegers</td>\n",
       "    </tr>\n",
       "    <tr>\n",
       "      <th>7279</th>\n",
       "      <td>4870665000</td>\n",
       "      <td>LasCondes</td>\n",
       "      <td>10.0</td>\n",
       "      <td>12.0</td>\n",
       "      <td>2400.0</td>\n",
       "      <td>5061.0</td>\n",
       "      <td>15.0</td>\n",
       "      <td>Piedraroja</td>\n",
       "      <td>Viel la Dehesa SPA</td>\n",
       "    </tr>\n",
       "  </tbody>\n",
       "</table>\n",
       "<p>9291 rows × 9 columns</p>\n",
       "</div>"
      ],
      "text/plain": [
       "       Price_CLP       Comuna  Dorms  Baths  Built Area  Total Area  Parking  \\\n",
       "4144    37000000  SanBernardo    2.0    1.0        42.0        42.0      2.0   \n",
       "3539    38000000   PuenteAlto    2.0    1.0        65.0        60.0      NaN   \n",
       "8261    38500000   PuenteAlto    3.0    2.0        80.0        80.0      NaN   \n",
       "3712    39000000        Lampa    2.0    1.0        42.0         NaN      2.0   \n",
       "5686    39000000       Colina    2.0    1.0        55.0        63.0      NaN   \n",
       "...          ...          ...    ...    ...         ...         ...      ...   \n",
       "2382  3607900000     Santiago   10.0    8.0         NaN       600.0      NaN   \n",
       "9288  3788295000    LasCondes    5.0    7.0       460.0      4925.0      8.0   \n",
       "8951  3968690000     Vitacura    NaN    NaN      5000.0      5000.0      NaN   \n",
       "6659  4040848000  LoBarnechea    5.0    5.0       600.0      2800.0      NaN   \n",
       "7279  4870665000    LasCondes   10.0   12.0      2400.0      5061.0     15.0   \n",
       "\n",
       "                             Ubicacion                           Realtor  \n",
       "4144     CerroCantillanaesquinaCondell                           Urbalia  \n",
       "3539          Laserena/canaljardinalto                              Unne  \n",
       "8261            Deltranque/elfrutoote.  Procasa Adrián Ulloa Propiedades  \n",
       "3712                 Pje.ElSalvador686                               NaN  \n",
       "5686   Casacon2°PisoenConjuntoElEstero                 Corretajes Prosal  \n",
       "...                                ...                               ...  \n",
       "2382                    TucapelJiménez                               NaN  \n",
       "9288  CaminoLasFlores/CaminoPiedraRoja                      Tsi Property  \n",
       "8951                           Locurro                      Tsi Property  \n",
       "6659                     Dehesacentral                    Berrios Zegers  \n",
       "7279                        Piedraroja                Viel la Dehesa SPA  \n",
       "\n",
       "[9291 rows x 9 columns]"
      ]
     },
     "execution_count": 80,
     "metadata": {},
     "output_type": "execute_result"
    }
   ],
   "source": [
    "df_propiedades.sort_values(\"Price_CLP\")"
   ]
  },
  {
   "cell_type": "code",
   "execution_count": 81,
   "id": "ca4298d4",
   "metadata": {},
   "outputs": [
    {
     "data": {
      "text/html": [
       "<div>\n",
       "<style scoped>\n",
       "    .dataframe tbody tr th:only-of-type {\n",
       "        vertical-align: middle;\n",
       "    }\n",
       "\n",
       "    .dataframe tbody tr th {\n",
       "        vertical-align: top;\n",
       "    }\n",
       "\n",
       "    .dataframe thead th {\n",
       "        text-align: right;\n",
       "    }\n",
       "</style>\n",
       "<table border=\"1\" class=\"dataframe\">\n",
       "  <thead>\n",
       "    <tr style=\"text-align: right;\">\n",
       "      <th></th>\n",
       "      <th>Price_CLP</th>\n",
       "      <th>Comuna</th>\n",
       "      <th>Dorms</th>\n",
       "      <th>Baths</th>\n",
       "      <th>Built Area</th>\n",
       "      <th>Total Area</th>\n",
       "      <th>Parking</th>\n",
       "      <th>Ubicacion</th>\n",
       "      <th>Realtor</th>\n",
       "    </tr>\n",
       "  </thead>\n",
       "  <tbody>\n",
       "    <tr>\n",
       "      <th>1</th>\n",
       "      <td>130000000</td>\n",
       "      <td>Buin</td>\n",
       "      <td>5.0</td>\n",
       "      <td>3.0</td>\n",
       "      <td>150.0</td>\n",
       "      <td>190.0</td>\n",
       "      <td>2.0</td>\n",
       "      <td>Villaseca</td>\n",
       "      <td>NaN</td>\n",
       "    </tr>\n",
       "    <tr>\n",
       "      <th>9</th>\n",
       "      <td>145000000</td>\n",
       "      <td>SanJoaquín</td>\n",
       "      <td>2.0</td>\n",
       "      <td>1.0</td>\n",
       "      <td>70.0</td>\n",
       "      <td>140.0</td>\n",
       "      <td>NaN</td>\n",
       "      <td>Ríoñuble</td>\n",
       "      <td>Royalrealty Spa</td>\n",
       "    </tr>\n",
       "    <tr>\n",
       "      <th>13</th>\n",
       "      <td>400000000</td>\n",
       "      <td>SanMiguel</td>\n",
       "      <td>7.0</td>\n",
       "      <td>3.0</td>\n",
       "      <td>220.0</td>\n",
       "      <td>270.0</td>\n",
       "      <td>2.0</td>\n",
       "      <td>AvenidaSalesianos</td>\n",
       "      <td>NaN</td>\n",
       "    </tr>\n",
       "    <tr>\n",
       "      <th>15</th>\n",
       "      <td>188000000</td>\n",
       "      <td>Santiago</td>\n",
       "      <td>4.0</td>\n",
       "      <td>2.0</td>\n",
       "      <td>131.0</td>\n",
       "      <td>77.0</td>\n",
       "      <td>NaN</td>\n",
       "      <td>RafaelSotomayor381</td>\n",
       "      <td>Jlipropiedades</td>\n",
       "    </tr>\n",
       "    <tr>\n",
       "      <th>16</th>\n",
       "      <td>210000000</td>\n",
       "      <td>Maipú</td>\n",
       "      <td>3.0</td>\n",
       "      <td>2.0</td>\n",
       "      <td>110.0</td>\n",
       "      <td>133.0</td>\n",
       "      <td>1.0</td>\n",
       "      <td>Islachica</td>\n",
       "      <td>NaN</td>\n",
       "    </tr>\n",
       "    <tr>\n",
       "      <th>...</th>\n",
       "      <td>...</td>\n",
       "      <td>...</td>\n",
       "      <td>...</td>\n",
       "      <td>...</td>\n",
       "      <td>...</td>\n",
       "      <td>...</td>\n",
       "      <td>...</td>\n",
       "      <td>...</td>\n",
       "      <td>...</td>\n",
       "    </tr>\n",
       "    <tr>\n",
       "      <th>9281</th>\n",
       "      <td>80672644</td>\n",
       "      <td>PuenteAlto</td>\n",
       "      <td>2.0</td>\n",
       "      <td>1.0</td>\n",
       "      <td>NaN</td>\n",
       "      <td>76.0</td>\n",
       "      <td>2.0</td>\n",
       "      <td>ClaudioArrau</td>\n",
       "      <td>Margarita Leiva Catalan</td>\n",
       "    </tr>\n",
       "    <tr>\n",
       "      <th>9284</th>\n",
       "      <td>269185419</td>\n",
       "      <td>PuenteAlto</td>\n",
       "      <td>4.0</td>\n",
       "      <td>3.0</td>\n",
       "      <td>NaN</td>\n",
       "      <td>240.0</td>\n",
       "      <td>3.0</td>\n",
       "      <td>CondominioJardinesdeLasVizcachas</td>\n",
       "      <td>Margarita Leiva Catalan</td>\n",
       "    </tr>\n",
       "    <tr>\n",
       "      <th>9285</th>\n",
       "      <td>162355500</td>\n",
       "      <td>Lampa</td>\n",
       "      <td>3.0</td>\n",
       "      <td>3.0</td>\n",
       "      <td>NaN</td>\n",
       "      <td>500.0</td>\n",
       "      <td>2.0</td>\n",
       "      <td>Batuco</td>\n",
       "      <td>Margarita Leiva Catalan</td>\n",
       "    </tr>\n",
       "    <tr>\n",
       "      <th>9287</th>\n",
       "      <td>250000000</td>\n",
       "      <td>PuenteAlto</td>\n",
       "      <td>4.0</td>\n",
       "      <td>2.0</td>\n",
       "      <td>196.0</td>\n",
       "      <td>750.0</td>\n",
       "      <td>NaN</td>\n",
       "      <td>manuelrodriguez</td>\n",
       "      <td>Margarita Leiva Catalan</td>\n",
       "    </tr>\n",
       "    <tr>\n",
       "      <th>9290</th>\n",
       "      <td>360717842</td>\n",
       "      <td>Talagante</td>\n",
       "      <td>5.0</td>\n",
       "      <td>3.0</td>\n",
       "      <td>225.0</td>\n",
       "      <td>366.0</td>\n",
       "      <td>NaN</td>\n",
       "      <td>LucasPacheco/Balmaceda</td>\n",
       "      <td>Tsi Property</td>\n",
       "    </tr>\n",
       "  </tbody>\n",
       "</table>\n",
       "<p>3782 rows × 9 columns</p>\n",
       "</div>"
      ],
      "text/plain": [
       "      Price_CLP      Comuna  Dorms  Baths  Built Area  Total Area  Parking  \\\n",
       "1     130000000        Buin    5.0    3.0       150.0       190.0      2.0   \n",
       "9     145000000  SanJoaquín    2.0    1.0        70.0       140.0      NaN   \n",
       "13    400000000   SanMiguel    7.0    3.0       220.0       270.0      2.0   \n",
       "15    188000000    Santiago    4.0    2.0       131.0        77.0      NaN   \n",
       "16    210000000       Maipú    3.0    2.0       110.0       133.0      1.0   \n",
       "...         ...         ...    ...    ...         ...         ...      ...   \n",
       "9281   80672644  PuenteAlto    2.0    1.0         NaN        76.0      2.0   \n",
       "9284  269185419  PuenteAlto    4.0    3.0         NaN       240.0      3.0   \n",
       "9285  162355500       Lampa    3.0    3.0         NaN       500.0      2.0   \n",
       "9287  250000000  PuenteAlto    4.0    2.0       196.0       750.0      NaN   \n",
       "9290  360717842   Talagante    5.0    3.0       225.0       366.0      NaN   \n",
       "\n",
       "                             Ubicacion                  Realtor  \n",
       "1                            Villaseca                      NaN  \n",
       "9                             Ríoñuble          Royalrealty Spa  \n",
       "13                   AvenidaSalesianos                      NaN  \n",
       "15                  RafaelSotomayor381           Jlipropiedades  \n",
       "16                           Islachica                      NaN  \n",
       "...                                ...                      ...  \n",
       "9281                      ClaudioArrau  Margarita Leiva Catalan  \n",
       "9284  CondominioJardinesdeLasVizcachas  Margarita Leiva Catalan  \n",
       "9285                            Batuco  Margarita Leiva Catalan  \n",
       "9287                   manuelrodriguez  Margarita Leiva Catalan  \n",
       "9290            LucasPacheco/Balmaceda             Tsi Property  \n",
       "\n",
       "[3782 rows x 9 columns]"
      ]
     },
     "execution_count": 81,
     "metadata": {},
     "output_type": "execute_result"
    }
   ],
   "source": [
    "df_propiedades[df_propiedades.isnull().any(axis=1)]"
   ]
  },
  {
   "cell_type": "code",
   "execution_count": 82,
   "id": "ed397db4",
   "metadata": {},
   "outputs": [],
   "source": [
    "df_propiedades[[\"Dorms\", \"Baths\", \"Built Area\", \"Total Area\", \"Parking\"]] = \\\n",
    "df_propiedades[[\"Dorms\", \"Baths\", \"Built Area\", \"Total Area\", \"Parking\"]].fillna(0)\n"
   ]
  },
  {
   "cell_type": "code",
   "execution_count": 83,
   "id": "0ca3c0f7",
   "metadata": {},
   "outputs": [
    {
     "data": {
      "text/html": [
       "<div>\n",
       "<style scoped>\n",
       "    .dataframe tbody tr th:only-of-type {\n",
       "        vertical-align: middle;\n",
       "    }\n",
       "\n",
       "    .dataframe tbody tr th {\n",
       "        vertical-align: top;\n",
       "    }\n",
       "\n",
       "    .dataframe thead th {\n",
       "        text-align: right;\n",
       "    }\n",
       "</style>\n",
       "<table border=\"1\" class=\"dataframe\">\n",
       "  <thead>\n",
       "    <tr style=\"text-align: right;\">\n",
       "      <th></th>\n",
       "      <th>Price_CLP</th>\n",
       "      <th>Comuna</th>\n",
       "      <th>Dorms</th>\n",
       "      <th>Baths</th>\n",
       "      <th>Built Area</th>\n",
       "      <th>Total Area</th>\n",
       "      <th>Parking</th>\n",
       "      <th>Ubicacion</th>\n",
       "      <th>Realtor</th>\n",
       "    </tr>\n",
       "  </thead>\n",
       "  <tbody>\n",
       "    <tr>\n",
       "      <th>1</th>\n",
       "      <td>130000000</td>\n",
       "      <td>Buin</td>\n",
       "      <td>5.0</td>\n",
       "      <td>3.0</td>\n",
       "      <td>150.0</td>\n",
       "      <td>190.0</td>\n",
       "      <td>2.0</td>\n",
       "      <td>Villaseca</td>\n",
       "      <td>NaN</td>\n",
       "    </tr>\n",
       "    <tr>\n",
       "      <th>13</th>\n",
       "      <td>400000000</td>\n",
       "      <td>SanMiguel</td>\n",
       "      <td>7.0</td>\n",
       "      <td>3.0</td>\n",
       "      <td>220.0</td>\n",
       "      <td>270.0</td>\n",
       "      <td>2.0</td>\n",
       "      <td>AvenidaSalesianos</td>\n",
       "      <td>NaN</td>\n",
       "    </tr>\n",
       "    <tr>\n",
       "      <th>16</th>\n",
       "      <td>210000000</td>\n",
       "      <td>Maipú</td>\n",
       "      <td>3.0</td>\n",
       "      <td>2.0</td>\n",
       "      <td>110.0</td>\n",
       "      <td>133.0</td>\n",
       "      <td>1.0</td>\n",
       "      <td>Islachica</td>\n",
       "      <td>NaN</td>\n",
       "    </tr>\n",
       "    <tr>\n",
       "      <th>22</th>\n",
       "      <td>120000000</td>\n",
       "      <td>LaFlorida</td>\n",
       "      <td>4.0</td>\n",
       "      <td>2.0</td>\n",
       "      <td>101.0</td>\n",
       "      <td>140.0</td>\n",
       "      <td>2.0</td>\n",
       "      <td>Avenidacoronelytrinidad</td>\n",
       "      <td>NaN</td>\n",
       "    </tr>\n",
       "    <tr>\n",
       "      <th>23</th>\n",
       "      <td>200000000</td>\n",
       "      <td>SanBernardo</td>\n",
       "      <td>3.0</td>\n",
       "      <td>1.0</td>\n",
       "      <td>0.0</td>\n",
       "      <td>0.0</td>\n",
       "      <td>1.0</td>\n",
       "      <td>Libertad</td>\n",
       "      <td>NaN</td>\n",
       "    </tr>\n",
       "    <tr>\n",
       "      <th>...</th>\n",
       "      <td>...</td>\n",
       "      <td>...</td>\n",
       "      <td>...</td>\n",
       "      <td>...</td>\n",
       "      <td>...</td>\n",
       "      <td>...</td>\n",
       "      <td>...</td>\n",
       "      <td>...</td>\n",
       "      <td>...</td>\n",
       "    </tr>\n",
       "    <tr>\n",
       "      <th>8949</th>\n",
       "      <td>520980760</td>\n",
       "      <td>Peñaflor</td>\n",
       "      <td>8.0</td>\n",
       "      <td>6.0</td>\n",
       "      <td>354.0</td>\n",
       "      <td>5300.0</td>\n",
       "      <td>3.0</td>\n",
       "      <td>Peñaflor</td>\n",
       "      <td>NaN</td>\n",
       "    </tr>\n",
       "    <tr>\n",
       "      <th>9243</th>\n",
       "      <td>537577100</td>\n",
       "      <td>Colina</td>\n",
       "      <td>3.0</td>\n",
       "      <td>3.0</td>\n",
       "      <td>160.0</td>\n",
       "      <td>600.0</td>\n",
       "      <td>2.0</td>\n",
       "      <td>AvenidaJoseRabat</td>\n",
       "      <td>NaN</td>\n",
       "    </tr>\n",
       "    <tr>\n",
       "      <th>9248</th>\n",
       "      <td>125000000</td>\n",
       "      <td>EstaciónCentral</td>\n",
       "      <td>3.0</td>\n",
       "      <td>1.0</td>\n",
       "      <td>80.0</td>\n",
       "      <td>199.0</td>\n",
       "      <td>1.0</td>\n",
       "      <td>Gloria472</td>\n",
       "      <td>NaN</td>\n",
       "    </tr>\n",
       "    <tr>\n",
       "      <th>9257</th>\n",
       "      <td>143594420</td>\n",
       "      <td>Buin</td>\n",
       "      <td>3.0</td>\n",
       "      <td>3.0</td>\n",
       "      <td>72.0</td>\n",
       "      <td>172.0</td>\n",
       "      <td>3.0</td>\n",
       "      <td>VictorVeraLetelier</td>\n",
       "      <td>NaN</td>\n",
       "    </tr>\n",
       "    <tr>\n",
       "      <th>9260</th>\n",
       "      <td>270592500</td>\n",
       "      <td>Lampa</td>\n",
       "      <td>3.0</td>\n",
       "      <td>3.0</td>\n",
       "      <td>118.0</td>\n",
       "      <td>340.0</td>\n",
       "      <td>3.0</td>\n",
       "      <td>LosNogalesSur3273</td>\n",
       "      <td>NaN</td>\n",
       "    </tr>\n",
       "  </tbody>\n",
       "</table>\n",
       "<p>1166 rows × 9 columns</p>\n",
       "</div>"
      ],
      "text/plain": [
       "      Price_CLP           Comuna  Dorms  Baths  Built Area  Total Area  \\\n",
       "1     130000000             Buin    5.0    3.0       150.0       190.0   \n",
       "13    400000000        SanMiguel    7.0    3.0       220.0       270.0   \n",
       "16    210000000            Maipú    3.0    2.0       110.0       133.0   \n",
       "22    120000000        LaFlorida    4.0    2.0       101.0       140.0   \n",
       "23    200000000      SanBernardo    3.0    1.0         0.0         0.0   \n",
       "...         ...              ...    ...    ...         ...         ...   \n",
       "8949  520980760         Peñaflor    8.0    6.0       354.0      5300.0   \n",
       "9243  537577100           Colina    3.0    3.0       160.0       600.0   \n",
       "9248  125000000  EstaciónCentral    3.0    1.0        80.0       199.0   \n",
       "9257  143594420             Buin    3.0    3.0        72.0       172.0   \n",
       "9260  270592500            Lampa    3.0    3.0       118.0       340.0   \n",
       "\n",
       "      Parking                Ubicacion Realtor  \n",
       "1         2.0                Villaseca     NaN  \n",
       "13        2.0        AvenidaSalesianos     NaN  \n",
       "16        1.0                Islachica     NaN  \n",
       "22        2.0  Avenidacoronelytrinidad     NaN  \n",
       "23        1.0                 Libertad     NaN  \n",
       "...       ...                      ...     ...  \n",
       "8949      3.0                 Peñaflor     NaN  \n",
       "9243      2.0         AvenidaJoseRabat     NaN  \n",
       "9248      1.0                Gloria472     NaN  \n",
       "9257      3.0       VictorVeraLetelier     NaN  \n",
       "9260      3.0        LosNogalesSur3273     NaN  \n",
       "\n",
       "[1166 rows x 9 columns]"
      ]
     },
     "execution_count": 83,
     "metadata": {},
     "output_type": "execute_result"
    }
   ],
   "source": [
    "df_propiedades[df_propiedades.isnull().any(axis=1)]"
   ]
  },
  {
   "cell_type": "code",
   "execution_count": 84,
   "id": "f6a2e8ea",
   "metadata": {},
   "outputs": [],
   "source": [
    "df_propiedades[[\"Realtor\"]] = \\\n",
    "df_propiedades[[\"Realtor\"]].fillna(\"\")"
   ]
  },
  {
   "cell_type": "code",
   "execution_count": 85,
   "id": "0821ed87",
   "metadata": {},
   "outputs": [
    {
     "data": {
      "text/html": [
       "<div>\n",
       "<style scoped>\n",
       "    .dataframe tbody tr th:only-of-type {\n",
       "        vertical-align: middle;\n",
       "    }\n",
       "\n",
       "    .dataframe tbody tr th {\n",
       "        vertical-align: top;\n",
       "    }\n",
       "\n",
       "    .dataframe thead th {\n",
       "        text-align: right;\n",
       "    }\n",
       "</style>\n",
       "<table border=\"1\" class=\"dataframe\">\n",
       "  <thead>\n",
       "    <tr style=\"text-align: right;\">\n",
       "      <th></th>\n",
       "      <th>Price_CLP</th>\n",
       "      <th>Comuna</th>\n",
       "      <th>Dorms</th>\n",
       "      <th>Baths</th>\n",
       "      <th>Built Area</th>\n",
       "      <th>Total Area</th>\n",
       "      <th>Parking</th>\n",
       "      <th>Ubicacion</th>\n",
       "      <th>Realtor</th>\n",
       "    </tr>\n",
       "  </thead>\n",
       "  <tbody>\n",
       "  </tbody>\n",
       "</table>\n",
       "</div>"
      ],
      "text/plain": [
       "Empty DataFrame\n",
       "Columns: [Price_CLP, Comuna, Dorms, Baths, Built Area, Total Area, Parking, Ubicacion, Realtor]\n",
       "Index: []"
      ]
     },
     "execution_count": 85,
     "metadata": {},
     "output_type": "execute_result"
    }
   ],
   "source": [
    "df_propiedades[df_propiedades.isnull().any(axis=1)]"
   ]
  },
  {
   "cell_type": "code",
   "execution_count": 86,
   "id": "defce978",
   "metadata": {},
   "outputs": [],
   "source": [
    "df_propiedades = df_propiedades.sort_values(by=\"Built Area\", ascending=False)\n",
    "df_propiedades[\"Price_CLP\"] = df_propiedades[\"Price_CLP\"].map(lambda x:x / 1000000)\n"
   ]
  },
  {
   "cell_type": "code",
   "execution_count": 87,
   "id": "29b22c0f-0f8a-42c8-9ec6-d11f513d322f",
   "metadata": {},
   "outputs": [
    {
     "data": {
      "text/html": [
       "<div>\n",
       "<style scoped>\n",
       "    .dataframe tbody tr th:only-of-type {\n",
       "        vertical-align: middle;\n",
       "    }\n",
       "\n",
       "    .dataframe tbody tr th {\n",
       "        vertical-align: top;\n",
       "    }\n",
       "\n",
       "    .dataframe thead th {\n",
       "        text-align: right;\n",
       "    }\n",
       "</style>\n",
       "<table border=\"1\" class=\"dataframe\">\n",
       "  <thead>\n",
       "    <tr style=\"text-align: right;\">\n",
       "      <th></th>\n",
       "      <th>Price_CLP</th>\n",
       "      <th>Comuna</th>\n",
       "      <th>Dorms</th>\n",
       "      <th>Baths</th>\n",
       "      <th>Built Area</th>\n",
       "      <th>Total Area</th>\n",
       "      <th>Parking</th>\n",
       "      <th>Ubicacion</th>\n",
       "      <th>Realtor</th>\n",
       "    </tr>\n",
       "  </thead>\n",
       "  <tbody>\n",
       "    <tr>\n",
       "      <th>1464</th>\n",
       "      <td>155.13970</td>\n",
       "      <td>Paine</td>\n",
       "      <td>0.0</td>\n",
       "      <td>0.0</td>\n",
       "      <td>50000000.0</td>\n",
       "      <td>5000.0</td>\n",
       "      <td>0.0</td>\n",
       "      <td>18deseptiemrecohuelquem</td>\n",
       "      <td>Corredores Asociados</td>\n",
       "    </tr>\n",
       "    <tr>\n",
       "      <th>313</th>\n",
       "      <td>257.96485</td>\n",
       "      <td>Paine</td>\n",
       "      <td>6.0</td>\n",
       "      <td>3.0</td>\n",
       "      <td>2710000.0</td>\n",
       "      <td>5400.0</td>\n",
       "      <td>5.0</td>\n",
       "      <td>Hermosaparcelaconpiscinaenpaine</td>\n",
       "      <td>Movahome Corredores Integrados</td>\n",
       "    </tr>\n",
       "    <tr>\n",
       "      <th>717</th>\n",
       "      <td>130.00000</td>\n",
       "      <td>Cerrillos</td>\n",
       "      <td>3.0</td>\n",
       "      <td>1.0</td>\n",
       "      <td>120000.0</td>\n",
       "      <td>300000.0</td>\n",
       "      <td>2.0</td>\n",
       "      <td>Av.LosCerrillos639</td>\n",
       "      <td>orietta alvarez lobos</td>\n",
       "    </tr>\n",
       "    <tr>\n",
       "      <th>2611</th>\n",
       "      <td>90.00000</td>\n",
       "      <td>Renca</td>\n",
       "      <td>3.0</td>\n",
       "      <td>2.0</td>\n",
       "      <td>100350.0</td>\n",
       "      <td>80980.0</td>\n",
       "      <td>1.0</td>\n",
       "      <td>CampañadeTacna1595</td>\n",
       "      <td></td>\n",
       "    </tr>\n",
       "    <tr>\n",
       "      <th>2228</th>\n",
       "      <td>2164.74000</td>\n",
       "      <td>SanJosédeMaipo</td>\n",
       "      <td>14.0</td>\n",
       "      <td>0.0</td>\n",
       "      <td>60000.0</td>\n",
       "      <td>60000.0</td>\n",
       "      <td>0.0</td>\n",
       "      <td>Casamaipo</td>\n",
       "      <td>Invictus Spa</td>\n",
       "    </tr>\n",
       "  </tbody>\n",
       "</table>\n",
       "</div>"
      ],
      "text/plain": [
       "       Price_CLP          Comuna  Dorms  Baths  Built Area  Total Area  \\\n",
       "1464   155.13970           Paine    0.0    0.0  50000000.0      5000.0   \n",
       "313    257.96485           Paine    6.0    3.0   2710000.0      5400.0   \n",
       "717    130.00000       Cerrillos    3.0    1.0    120000.0    300000.0   \n",
       "2611    90.00000           Renca    3.0    2.0    100350.0     80980.0   \n",
       "2228  2164.74000  SanJosédeMaipo   14.0    0.0     60000.0     60000.0   \n",
       "\n",
       "      Parking                        Ubicacion                         Realtor  \n",
       "1464      0.0          18deseptiemrecohuelquem            Corredores Asociados  \n",
       "313       5.0  Hermosaparcelaconpiscinaenpaine  Movahome Corredores Integrados  \n",
       "717       2.0               Av.LosCerrillos639           orietta alvarez lobos  \n",
       "2611      1.0               CampañadeTacna1595                                  \n",
       "2228      0.0                        Casamaipo                    Invictus Spa  "
      ]
     },
     "execution_count": 87,
     "metadata": {},
     "output_type": "execute_result"
    }
   ],
   "source": [
    "df_propiedades.head()"
   ]
  },
  {
   "cell_type": "code",
   "execution_count": 88,
   "id": "af2b0cb1-05e0-4a27-9d70-d2fafdd38dcc",
   "metadata": {},
   "outputs": [
    {
     "data": {
      "text/plain": [
       "<AxesSubplot:xlabel='Price_CLP', ylabel='Count'>"
      ]
     },
     "execution_count": 88,
     "metadata": {},
     "output_type": "execute_result"
    },
    {
     "data": {
      "image/png": "[encoded data removed]",
      "text/plain": [
       "<Figure size 432x288 with 1 Axes>"
      ]
     },
     "metadata": {
      "needs_background": "light"
     },
     "output_type": "display_data"
    }
   ],
   "source": [
    "sns.histplot(df_propiedades[\"Price_CLP\"], stat=\"count\")"
   ]
  },
  {
   "cell_type": "code",
   "execution_count": 89,
   "id": "3a1ec338-58ca-4d93-810a-98633eb70f4c",
   "metadata": {},
   "outputs": [
    {
     "name": "stderr",
     "output_type": "stream",
     "text": [
      "c:\\Users\\Nico\\AppData\\Local\\Programs\\Python\\Python38\\lib\\site-packages\\seaborn\\_decorators.py:36: FutureWarning: Pass the following variable as a keyword arg: x. From version 0.12, the only valid positional argument will be `data`, and passing other arguments without an explicit keyword will result in an error or misinterpretation.\n",
      "  warnings.warn(\n"
     ]
    },
    {
     "data": {
      "text/plain": [
       "<AxesSubplot:xlabel='Price_CLP'>"
      ]
     },
     "execution_count": 89,
     "metadata": {},
     "output_type": "execute_result"
    },
    {
     "data": {
      "image/png": "[encoded data removed]",
      "text/plain": [
       "<Figure size 432x288 with 1 Axes>"
      ]
     },
     "metadata": {
      "needs_background": "light"
     },
     "output_type": "display_data"
    }
   ],
   "source": [
    "sns.boxenplot(df_propiedades[\"Price_CLP\"])"
   ]
  },
  {
   "cell_type": "code",
   "execution_count": 90,
   "id": "1f575e82-8de6-4882-b917-382c3b3ef983",
   "metadata": {},
   "outputs": [
    {
     "name": "stderr",
     "output_type": "stream",
     "text": [
      "c:\\Users\\Nico\\AppData\\Local\\Programs\\Python\\Python38\\lib\\site-packages\\seaborn\\_decorators.py:36: FutureWarning: Pass the following variable as a keyword arg: x. From version 0.12, the only valid positional argument will be `data`, and passing other arguments without an explicit keyword will result in an error or misinterpretation.\n",
      "  warnings.warn(\n"
     ]
    },
    {
     "data": {
      "text/plain": [
       "<AxesSubplot:xlabel='Dorms'>"
      ]
     },
     "execution_count": 90,
     "metadata": {},
     "output_type": "execute_result"
    },
    {
     "data": {
      "image/png": "[encoded data removed]",
      "text/plain": [
       "<Figure size 432x288 with 1 Axes>"
      ]
     },
     "metadata": {
      "needs_background": "light"
     },
     "output_type": "display_data"
    }
   ],
   "source": [
    "sns.boxenplot(df_propiedades[\"Dorms\"])"
   ]
  },
  {
   "cell_type": "code",
   "execution_count": 91,
   "id": "6c36b76d-cccb-4ed1-ba3e-551e58187d7a",
   "metadata": {},
   "outputs": [
    {
     "name": "stderr",
     "output_type": "stream",
     "text": [
      "c:\\Users\\Nico\\AppData\\Local\\Programs\\Python\\Python38\\lib\\site-packages\\seaborn\\_decorators.py:36: FutureWarning: Pass the following variable as a keyword arg: x. From version 0.12, the only valid positional argument will be `data`, and passing other arguments without an explicit keyword will result in an error or misinterpretation.\n",
      "  warnings.warn(\n"
     ]
    },
    {
     "data": {
      "text/plain": [
       "<AxesSubplot:xlabel='Baths'>"
      ]
     },
     "execution_count": 91,
     "metadata": {},
     "output_type": "execute_result"
    },
    {
     "data": {
      "image/png": "[encoded data removed]",
      "text/plain": [
       "<Figure size 432x288 with 1 Axes>"
      ]
     },
     "metadata": {
      "needs_background": "light"
     },
     "output_type": "display_data"
    }
   ],
   "source": [
    "sns.boxenplot(df_propiedades[\"Baths\"])"
   ]
  },
  {
   "cell_type": "code",
   "execution_count": 92,
   "id": "bcec50ac-19c7-496f-8237-a0871ab6e9c1",
   "metadata": {},
   "outputs": [
    {
     "name": "stderr",
     "output_type": "stream",
     "text": [
      "c:\\Users\\Nico\\AppData\\Local\\Programs\\Python\\Python38\\lib\\site-packages\\seaborn\\_decorators.py:36: FutureWarning: Pass the following variable as a keyword arg: x. From version 0.12, the only valid positional argument will be `data`, and passing other arguments without an explicit keyword will result in an error or misinterpretation.\n",
      "  warnings.warn(\n"
     ]
    },
    {
     "data": {
      "text/plain": [
       "<AxesSubplot:xlabel='Built Area'>"
      ]
     },
     "execution_count": 92,
     "metadata": {},
     "output_type": "execute_result"
    },
    {
     "data": {
      "image/png": "[encoded data removed]",
      "text/plain": [
       "<Figure size 432x288 with 1 Axes>"
      ]
     },
     "metadata": {
      "needs_background": "light"
     },
     "output_type": "display_data"
    }
   ],
   "source": [
    "sns.boxenplot(df_propiedades[df_propiedades[\"Built Area\"] < df_propiedades[\"Built Area\"].quantile(.95)][\"Built Area\"]) # Sin considerar unos outliers grandísimos que dejaban casi inútil el gráfico"
   ]
  },
  {
   "cell_type": "code",
   "execution_count": 93,
   "id": "d89155c2-733f-413b-a07e-893ad24af19c",
   "metadata": {},
   "outputs": [
    {
     "name": "stderr",
     "output_type": "stream",
     "text": [
      "c:\\Users\\Nico\\AppData\\Local\\Programs\\Python\\Python38\\lib\\site-packages\\seaborn\\_decorators.py:36: FutureWarning: Pass the following variable as a keyword arg: x. From version 0.12, the only valid positional argument will be `data`, and passing other arguments without an explicit keyword will result in an error or misinterpretation.\n",
      "  warnings.warn(\n"
     ]
    },
    {
     "data": {
      "text/plain": [
       "<AxesSubplot:xlabel='Parking'>"
      ]
     },
     "execution_count": 93,
     "metadata": {},
     "output_type": "execute_result"
    },
    {
     "data": {
      "image/png": "[encoded data removed]",
      "text/plain": [
       "<Figure size 432x288 with 1 Axes>"
      ]
     },
     "metadata": {
      "needs_background": "light"
     },
     "output_type": "display_data"
    }
   ],
   "source": [
    "sns.boxenplot(df_propiedades[\"Parking\"])"
   ]
  },
  {
   "cell_type": "code",
   "execution_count": 100,
   "id": "fc4d46d1-b3e2-4f95-aff0-e3653de0c6ec",
   "metadata": {
    "scrolled": true
   },
   "outputs": [],
   "source": [
    "features = [\"Dorms\", \"Baths\", \"Built Area\", \"Total Area\", \"Parking\"]\n",
    "target = \"Price_CLP\"\n",
    "X = df_propiedades[features]\n",
    "y = df_propiedades[target]\n",
    "X_train, X_test, y_train, y_test = train_test_split(X, y, test_size=0.2, random_state=42)"
   ]
  },
  {
   "cell_type": "code",
   "execution_count": 99,
   "id": "21f34222",
   "metadata": {},
   "outputs": [
    {
     "data": {
      "text/html": [
       "<style>#sk-container-id-1 {color: black;}#sk-container-id-1 pre{padding: 0;}#sk-container-id-1 div.sk-toggleable {background-color: white;}#sk-container-id-1 label.sk-toggleable__label {cursor: pointer;display: block;width: 100%;margin-bottom: 0;padding: 0.3em;box-sizing: border-box;text-align: center;}#sk-container-id-1 label.sk-toggleable__label-arrow:before {content: \"▸\";float: left;margin-right: 0.25em;color: #696969;}#sk-container-id-1 label.sk-toggleable__label-arrow:hover:before {color: black;}#sk-container-id-1 div.sk-estimator:hover label.sk-toggleable__label-arrow:before {color: black;}#sk-container-id-1 div.sk-toggleable__content {max-height: 0;max-width: 0;overflow: hidden;text-align: left;background-color: #f0f8ff;}#sk-container-id-1 div.sk-toggleable__content pre {margin: 0.2em;color: black;border-radius: 0.25em;background-color: #f0f8ff;}#sk-container-id-1 input.sk-toggleable__control:checked~div.sk-toggleable__content {max-height: 200px;max-width: 100%;overflow: auto;}#sk-container-id-1 input.sk-toggleable__control:checked~label.sk-toggleable__label-arrow:before {content: \"▾\";}#sk-container-id-1 div.sk-estimator input.sk-toggleable__control:checked~label.sk-toggleable__label {background-color: #d4ebff;}#sk-container-id-1 div.sk-label input.sk-toggleable__control:checked~label.sk-toggleable__label {background-color: #d4ebff;}#sk-container-id-1 input.sk-hidden--visually {border: 0;clip: rect(1px 1px 1px 1px);clip: rect(1px, 1px, 1px, 1px);height: 1px;margin: -1px;overflow: hidden;padding: 0;position: absolute;width: 1px;}#sk-container-id-1 div.sk-estimator {font-family: monospace;background-color: #f0f8ff;border: 1px dotted black;border-radius: 0.25em;box-sizing: border-box;margin-bottom: 0.5em;}#sk-container-id-1 div.sk-estimator:hover {background-color: #d4ebff;}#sk-container-id-1 div.sk-parallel-item::after {content: \"\";width: 100%;border-bottom: 1px solid gray;flex-grow: 1;}#sk-container-id-1 div.sk-label:hover label.sk-toggleable__label {background-color: #d4ebff;}#sk-container-id-1 div.sk-serial::before {content: \"\";position: absolute;border-left: 1px solid gray;box-sizing: border-box;top: 0;bottom: 0;left: 50%;z-index: 0;}#sk-container-id-1 div.sk-serial {display: flex;flex-direction: column;align-items: center;background-color: white;padding-right: 0.2em;padding-left: 0.2em;position: relative;}#sk-container-id-1 div.sk-item {position: relative;z-index: 1;}#sk-container-id-1 div.sk-parallel {display: flex;align-items: stretch;justify-content: center;background-color: white;position: relative;}#sk-container-id-1 div.sk-item::before, #sk-container-id-1 div.sk-parallel-item::before {content: \"\";position: absolute;border-left: 1px solid gray;box-sizing: border-box;top: 0;bottom: 0;left: 50%;z-index: -1;}#sk-container-id-1 div.sk-parallel-item {display: flex;flex-direction: column;z-index: 1;position: relative;background-color: white;}#sk-container-id-1 div.sk-parallel-item:first-child::after {align-self: flex-end;width: 50%;}#sk-container-id-1 div.sk-parallel-item:last-child::after {align-self: flex-start;width: 50%;}#sk-container-id-1 div.sk-parallel-item:only-child::after {width: 0;}#sk-container-id-1 div.sk-dashed-wrapped {border: 1px dashed gray;margin: 0 0.4em 0.5em 0.4em;box-sizing: border-box;padding-bottom: 0.4em;background-color: white;}#sk-container-id-1 div.sk-label label {font-family: monospace;font-weight: bold;display: inline-block;line-height: 1.2em;}#sk-container-id-1 div.sk-label-container {text-align: center;}#sk-container-id-1 div.sk-container {/* jupyter's `normalize.less` sets `[hidden] { display: none; }` but bootstrap.min.css set `[hidden] { display: none !important; }` so we also need the `!important` here to be able to override the default hidden behavior on the sphinx rendered scikit-learn.org. See: https://github.com/scikit-learn/scikit-learn/issues/21755 */display: inline-block !important;position: relative;}#sk-container-id-1 div.sk-text-repr-fallback {display: none;}</style><div id=\"sk-container-id-1\" class=\"sk-top-container\"><div class=\"sk-text-repr-fallback\"><pre>RandomForestRegressor(random_state=42)</pre><b>In a Jupyter environment, please rerun this cell to show the HTML representation or trust the notebook. <br />On GitHub, the HTML representation is unable to render, please try loading this page with nbviewer.org.</b></div><div class=\"sk-container\" hidden><div class=\"sk-item\"><div class=\"sk-estimator sk-toggleable\"><input class=\"sk-toggleable__control sk-hidden--visually\" id=\"sk-estimator-id-1\" type=\"checkbox\" checked><label for=\"sk-estimator-id-1\" class=\"sk-toggleable__label sk-toggleable__label-arrow\">RandomForestRegressor</label><div class=\"sk-toggleable__content\"><pre>RandomForestRegressor(random_state=42)</pre></div></div></div></div></div>"
      ],
      "text/plain": [
       "RandomForestRegressor(random_state=42)"
      ]
     },
     "execution_count": 99,
     "metadata": {},
     "output_type": "execute_result"
    }
   ],
   "source": [
    "model = RandomForestRegressor(random_state=42, n_estimators=100)\n",
    "model.fit(X_train, y_train)"
   ]
  },
  {
   "cell_type": "code",
   "execution_count": 101,
   "id": "cf028c6c",
   "metadata": {},
   "outputs": [],
   "source": [
    "y_pred = model.predict(X_test)"
   ]
  },
  {
   "cell_type": "code",
   "execution_count": 102,
   "id": "4c0e36a3",
   "metadata": {},
   "outputs": [
    {
     "name": "stdout",
     "output_type": "stream",
     "text": [
      "Root Mean Squared Error (RMSE): 207.38673925328158\n",
      "Mean Absolute Error (MAE): 111.08681575398907\n",
      "R^2 Score: 0.7446716148837185\n"
     ]
    }
   ],
   "source": [
    "rmse = np.sqrt(mean_squared_error(y_test, y_pred))\n",
    "mae = mean_absolute_error(y_test, y_pred)\n",
    "r2 = r2_score(y_test, y_pred)\n",
    "\n",
    "print(f\"Root Mean Squared Error (RMSE): {rmse}\")\n",
    "print(f\"Mean Absolute Error (MAE): {mae}\")\n",
    "print(f\"R^2 Score: {r2}\")"
   ]
  },
  {
   "cell_type": "code",
   "execution_count": 106,
   "id": "fbcc3c26",
   "metadata": {},
   "outputs": [
    {
     "data": {
      "text/html": [
       "<style>#sk-container-id-2 {color: black;}#sk-container-id-2 pre{padding: 0;}#sk-container-id-2 div.sk-toggleable {background-color: white;}#sk-container-id-2 label.sk-toggleable__label {cursor: pointer;display: block;width: 100%;margin-bottom: 0;padding: 0.3em;box-sizing: border-box;text-align: center;}#sk-container-id-2 label.sk-toggleable__label-arrow:before {content: \"▸\";float: left;margin-right: 0.25em;color: #696969;}#sk-container-id-2 label.sk-toggleable__label-arrow:hover:before {color: black;}#sk-container-id-2 div.sk-estimator:hover label.sk-toggleable__label-arrow:before {color: black;}#sk-container-id-2 div.sk-toggleable__content {max-height: 0;max-width: 0;overflow: hidden;text-align: left;background-color: #f0f8ff;}#sk-container-id-2 div.sk-toggleable__content pre {margin: 0.2em;color: black;border-radius: 0.25em;background-color: #f0f8ff;}#sk-container-id-2 input.sk-toggleable__control:checked~div.sk-toggleable__content {max-height: 200px;max-width: 100%;overflow: auto;}#sk-container-id-2 input.sk-toggleable__control:checked~label.sk-toggleable__label-arrow:before {content: \"▾\";}#sk-container-id-2 div.sk-estimator input.sk-toggleable__control:checked~label.sk-toggleable__label {background-color: #d4ebff;}#sk-container-id-2 div.sk-label input.sk-toggleable__control:checked~label.sk-toggleable__label {background-color: #d4ebff;}#sk-container-id-2 input.sk-hidden--visually {border: 0;clip: rect(1px 1px 1px 1px);clip: rect(1px, 1px, 1px, 1px);height: 1px;margin: -1px;overflow: hidden;padding: 0;position: absolute;width: 1px;}#sk-container-id-2 div.sk-estimator {font-family: monospace;background-color: #f0f8ff;border: 1px dotted black;border-radius: 0.25em;box-sizing: border-box;margin-bottom: 0.5em;}#sk-container-id-2 div.sk-estimator:hover {background-color: #d4ebff;}#sk-container-id-2 div.sk-parallel-item::after {content: \"\";width: 100%;border-bottom: 1px solid gray;flex-grow: 1;}#sk-container-id-2 div.sk-label:hover label.sk-toggleable__label {background-color: #d4ebff;}#sk-container-id-2 div.sk-serial::before {content: \"\";position: absolute;border-left: 1px solid gray;box-sizing: border-box;top: 0;bottom: 0;left: 50%;z-index: 0;}#sk-container-id-2 div.sk-serial {display: flex;flex-direction: column;align-items: center;background-color: white;padding-right: 0.2em;padding-left: 0.2em;position: relative;}#sk-container-id-2 div.sk-item {position: relative;z-index: 1;}#sk-container-id-2 div.sk-parallel {display: flex;align-items: stretch;justify-content: center;background-color: white;position: relative;}#sk-container-id-2 div.sk-item::before, #sk-container-id-2 div.sk-parallel-item::before {content: \"\";position: absolute;border-left: 1px solid gray;box-sizing: border-box;top: 0;bottom: 0;left: 50%;z-index: -1;}#sk-container-id-2 div.sk-parallel-item {display: flex;flex-direction: column;z-index: 1;position: relative;background-color: white;}#sk-container-id-2 div.sk-parallel-item:first-child::after {align-self: flex-end;width: 50%;}#sk-container-id-2 div.sk-parallel-item:last-child::after {align-self: flex-start;width: 50%;}#sk-container-id-2 div.sk-parallel-item:only-child::after {width: 0;}#sk-container-id-2 div.sk-dashed-wrapped {border: 1px dashed gray;margin: 0 0.4em 0.5em 0.4em;box-sizing: border-box;padding-bottom: 0.4em;background-color: white;}#sk-container-id-2 div.sk-label label {font-family: monospace;font-weight: bold;display: inline-block;line-height: 1.2em;}#sk-container-id-2 div.sk-label-container {text-align: center;}#sk-container-id-2 div.sk-container {/* jupyter's `normalize.less` sets `[hidden] { display: none; }` but bootstrap.min.css set `[hidden] { display: none !important; }` so we also need the `!important` here to be able to override the default hidden behavior on the sphinx rendered scikit-learn.org. See: https://github.com/scikit-learn/scikit-learn/issues/21755 */display: inline-block !important;position: relative;}#sk-container-id-2 div.sk-text-repr-fallback {display: none;}</style><div id=\"sk-container-id-2\" class=\"sk-top-container\"><div class=\"sk-text-repr-fallback\"><pre>LinearRegression()</pre><b>In a Jupyter environment, please rerun this cell to show the HTML representation or trust the notebook. <br />On GitHub, the HTML representation is unable to render, please try loading this page with nbviewer.org.</b></div><div class=\"sk-container\" hidden><div class=\"sk-item\"><div class=\"sk-estimator sk-toggleable\"><input class=\"sk-toggleable__control sk-hidden--visually\" id=\"sk-estimator-id-2\" type=\"checkbox\" checked><label for=\"sk-estimator-id-2\" class=\"sk-toggleable__label sk-toggleable__label-arrow\">LinearRegression</label><div class=\"sk-toggleable__content\"><pre>LinearRegression()</pre></div></div></div></div></div>"
      ],
      "text/plain": [
       "LinearRegression()"
      ]
     },
     "execution_count": 106,
     "metadata": {},
     "output_type": "execute_result"
    }
   ],
   "source": [
    "model_LR = LinearRegression()\n",
    "model_LR.fit(X_train, y_train)"
   ]
  },
  {
   "cell_type": "code",
   "execution_count": 107,
   "id": "aee29575",
   "metadata": {},
   "outputs": [],
   "source": [
    "y_pred_LR = model_LR.predict(X_test)"
   ]
  },
  {
   "cell_type": "code",
   "execution_count": 108,
   "id": "c8cb2413",
   "metadata": {},
   "outputs": [
    {
     "name": "stdout",
     "output_type": "stream",
     "text": [
      "Resultados del modelo de regresión lineal:\n",
      "RMSE (Root Mean Squared Error): 339.6664090709519\n",
      "MAE (Mean Absolute Error): 200.09285311440945\n",
      "R^2 (Coeficiente de determinación): 0.31507608277576427\n"
     ]
    }
   ],
   "source": [
    "rmse_LR = np.sqrt(mean_squared_error(y_test, y_pred_LR))\n",
    "mae_LR = mean_absolute_error(y_test, y_pred_LR)\n",
    "r2_LR = r2_score(y_test, y_pred_LR)\n",
    "\n",
    "# Mostrar métricas\n",
    "print(\"Resultados del modelo de regresión lineal:\")\n",
    "print(f\"RMSE (Root Mean Squared Error): {rmse_LR}\")\n",
    "print(f\"MAE (Mean Absolute Error): {mae_LR}\")\n",
    "print(f\"R^2 (Coeficiente de determinación): {r2_LR}\")\n"
   ]
  },
  {
   "cell_type": "code",
   "execution_count": 110,
   "id": "dcf7ecae",
   "metadata": {},
   "outputs": [
    {
     "name": "stdout",
     "output_type": "stream",
     "text": [
      "\n",
      "Coeficientes del modelo:\n",
      "  Característica  Coeficiente\n",
      "0          Dorms    11.960616\n",
      "1          Baths   136.243598\n",
      "2     Built Area    -0.000064\n",
      "3     Total Area     0.001095\n",
      "4        Parking    36.135054\n"
     ]
    }
   ],
   "source": [
    "# Mostrar los coeficientes del modelo\n",
    "coeficientes = pd.DataFrame({\"Característica\": features, \"Coeficiente\": model_LR.coef_})\n",
    "print(\"\\nCoeficientes del modelo:\")\n",
    "print(coeficientes)"
   ]
  },
  {
   "cell_type": "markdown",
   "id": "495161dc",
   "metadata": {},
   "source": [
    "El principal problema que tuvimos fue al limpiar los datos, es por esto que para esta entrega decidimos ser más exhaustivos y precavidos, por lo que rellenamos los datos nulos, las columnas de datos numericos con **0** y las columnas con datos str con **\"\"**. "
   ]
  },
  {
   "cell_type": "markdown",
   "id": "846762ef-981a-4f9a-817c-6a5e825372a3",
   "metadata": {},
   "source": [
    "# 2.4 Conclusión\n",
    "\n",
    "Tenemos Precio, dormitorio baño, aŕea construida y estacionamientos, pero sólo de casas, no de departamentos, además, de acuerdo con la documentación de los datos estas casas sólo son casas usadas, aunque probablemente no sea el caso de todas.\n",
    "\n",
    "Hay 9291 registros con un precio válido. \n",
    "\n",
    "Los atributos no son independientes, ya que realmente el precio de una propiedad está muy relacionado con el indicador del área, y al tener más área lógicamente tendrá mas espacio para alojar más gente, que necesitará a su vez donde dormir y suplir sus necesidades.\n",
    "\n",
    "\n",
    "## ¿Cómo cambió el mundo después del trabajo?\n",
    "\n",
    "El impacto de este trabajo se refleja en lo siguiente:\n",
    "- Mejor comprensión del mercado inmobiliario, con el análisis se lográ una visón más clara de las principales caracteristicas de las viviendas. \n",
    "- Decisiones más informadas, para inversionistas y para simples compradores, pueden utilizar este análisis para estudiar los valores y oportunidades de viviendas para maximizar sus ganancias.\n",
    "- Primer acercamiento a un análisis más profundo, luego de comprender esto, se puede continuar con estudios más profundos y especificos.\n",
    "\n",
    "\n",
    "------\n",
    "\n"
   ]
  },
  {
   "cell_type": "markdown",
   "id": "ec8f9c69",
   "metadata": {},
   "source": []
  },
  {
   "cell_type": "markdown",
   "id": "cbf1f07e-1199-48b3-9fdf-5e75b684d251",
   "metadata": {},
   "source": [
    "### 2.5. Primera Respuesta al Problema o Pregunta\n",
    "\n",
    "- ¿Por qué era adecuado el trabajo realizado para mi proyecto?\n",
    "\n",
    "La finalidad del trabajo realizado es comprender el mercado inmobiliario actual en chile y poder tomar decisiones de manera informada. El analisis inicial permite visualizar de mejor manera ciertas variables y caracteristicas de las viviendas y con eso comprender tendencias y las ofertas existentes.\n",
    "- ¿Qué limitaciones tiene mi análisis? ¿Cómo se podría mejorar o solventar algunas de esas limitaciones?\n",
    "\n",
    "Las principales limitaciones vienen de la mano de los datos, ya que actuelmente se está trabajando con una base de datos, proveniente de una sola pagina web, por lo que puede haber información y ofertas de viviendas que estamos dejando de lado. También se puede perder fluctuaciones de precio a lo largo del tiempo, que es una variable clave al momento de toamr una decisión de inversión de gran magnitud. Finalmente no se están considerando factores como \"servicios cercadnos\", \"áreas verdes\", \"accesibilidad\", etc. \n",
    "\n",
    "La manera de mitigar estos problemas podrías ser, realizar analisis geoespacial, junto con complemntear los datos con otras paginas web.\n",
    "\n",
    "- ¿Necesito más datos para mi proyecto?\n",
    "\n",
    "De todas maneras el aumento de datos puede ser beneficioso para el proyecto, esto permite mejores correlaciones y aporta a una mejor comprensión del problema. Puede tener un lado negativo, que sería el aumento en el tiempo de analisis, pero siempre será más relevante un mejor y más profundo analisis, antes que uno superficial.\n",
    "\n",
    "- ¿Necesito más análisis para mi proyecto?\n",
    "\n",
    "Como comentamos anteriormente, se podría profundizar el analisis con un estudio zonal de las viviendas, junto con un estudio de las fluctuaciones de precios en el tiempo. "
   ]
  },
  {
   "cell_type": "markdown",
   "id": "f0fbdfb6",
   "metadata": {},
   "source": []
  }
 ],
 "metadata": {
  "kernelspec": {
   "display_name": "Python 3",
   "language": "python",
   "name": "python3"
  },
  "language_info": {
   "codemirror_mode": {
    "name": "ipython",
    "version": 3
   },
   "file_extension": ".py",
   "mimetype": "text/x-python",
   "name": "python",
   "nbconvert_exporter": "python",
   "pygments_lexer": "ipython3",
   "version": "3.8.10"
  }
 },
 "nbformat": 4,
 "nbformat_minor": 5
}
