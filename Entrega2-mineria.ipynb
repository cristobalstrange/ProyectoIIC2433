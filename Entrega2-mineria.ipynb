{
 "cells": [
  {
   "cell_type": "markdown",
   "id": "c96e914d-34ea-4d4f-a327-66fd07aac60c",
   "metadata": {},
   "source": [
    "# Entrega 2 Proyecto Final – Primeros Análisis<br>\n",
    "#### Integrantes:\n",
    "- Daniel Cea\n",
    "- Cristobal Strange\n",
    "- Antonia Painen\n",
    "- Aleksander Humenyi"
   ]
  },
  {
   "cell_type": "markdown",
   "id": "cce26a9d-46a8-49d0-a782-7de1c84946bf",
   "metadata": {},
   "source": [
    "### 2.1. Definición del Problema\n",
    "\n",
    "En los últimos años, se ha registrado un notable incremento en los precios de las viviendas, lo que ha generado dificultades crecientes para que las personas puedan acceder a una propiedad. Esta situación ha llevado a que los potenciales compradores deban considerar más factores al momento de elegir una vivienda, con el fin de optimizar su inversión.\n",
    "\n",
    "El objetivo de este proyecto es proporcionar herramientas que ayuden a quienes están interesados en adquirir una vivienda en la Región Metropolitana. Utilizando análisis de datos, se busca generar información valiosa que permita a los compradores tomar decisiones más informadas y maximizar el valor de su compra en un contexto de mercado con precios al alza.\n",
    "\n",
    "En esta entrega del proyecto, nos enfocaremos en describir en detalle los datos disponibles, los cuales incluyen información sobre las viviendas en venta en la Región Metropolitana, y presentaremos un plan preliminar de análisis que será extendido en las fases siguientes. El análisis abarcará tanto características de ciertos patrones de precios, para identificar tendencias que puedan beneficiar a los futuros compradores.\n",
    "\n",
    "##### *¿Qué estrategias pueden emplear los compradores para maximizar el valor de su compra de vivienda en un mercado con precios en alza?*\n",
    "\n"
   ]
  },
  {
   "cell_type": "markdown",
   "id": "c6f2c19f-3a1d-47b5-a3ac-0e107101ada6",
   "metadata": {},
   "source": [
    "### 2.2. Impacto del Trabajo\n",
    "\n",
    "Dado el constante aumento en los precios de las viviendas, resulta cada vez más crucial para los compradores tomar decisiones informadas al momento de adquirir una propiedad. El mercado inmobiliario actual presenta desafíos significativos, especialmente en áreas urbanas donde la oferta es limitada y la demanda sigue creciendo. Por ello, conocer los factores que influyen en los precios y analizar las características de las viviendas disponibles se vuelve esencial para maximizar el valor de la inversión. En este contexto, contar con información precisa y actualizada puede marcar la diferencia entre una compra exitosa y una que no satisfaga las expectativas a largo plazo.\n"
   ]
  },
  {
   "cell_type": "markdown",
   "id": "3214c567-485a-4da8-956c-05b6bde96cc2",
   "metadata": {
    "jp-MarkdownHeadingCollapsed": true
   },
   "source": [
    "### 2.3. Datos\n",
    "Los datos que elegimos para el proyecto es sobre casas que se encuentran a la venta en la Región Metropolitana, estos datos fueron extraídos mediante web scraping a una página de publicación de viviendas en venta, [Chile Propiedades](https://chilepropiedades.cl), y los datos extraídos de la página los obtuvimos  [aquí.](https://www.kaggle.com/datasets/luisfelipetn/valor-casas-usadas-chile-rm-08032023)\n",
    "\n",
    "Este dataset es relevante para el análisis del mercado inmobiliario, ya que refleja características importantes para los compradores, como ubicación, precio, tamaño de las propiedades y cantidad de baños y habitaciones. Con esto tenemos una amplia gama de factores clave que influyen en los precios, permitiendo un análisis exhaustivo del comportamiento del mercado en un área de alta demanda y constante alza en los precios de vivienda."
   ]
  },
  {
   "cell_type": "markdown",
   "id": "cbf1f07e-1199-48b3-9fdf-5e75b684d251",
   "metadata": {},
   "source": [
    "### 2.5. Primera Respuesta al Problema o Pregunta\n",
    "\n",
    "- ¿Por qué era adecuado el trabajo realizado para mi proyecto?\n",
    "- ¿Qué limitaciones tiene mi análisis? ¿Cómo se podría mejorar o solventar algunas de esas limitaciones?\n",
    "- ¿Necesito más datos para mi proyecto?\n",
    "- ¿Necesito más análisis para mi proyecto?"
   ]
  },
  {
   "cell_type": "code",
   "execution_count": null,
   "id": "50f45f0c-d706-48b0-8722-594964ef70c4",
   "metadata": {},
   "outputs": [],
   "source": []
  }
 ],
 "metadata": {
  "kernelspec": {
   "display_name": "Python 3 (ipykernel)",
   "language": "python",
   "name": "python3"
  },
  "language_info": {
   "codemirror_mode": {
    "name": "ipython",
    "version": 3
   },
   "file_extension": ".py",
   "mimetype": "text/x-python",
   "name": "python",
   "nbconvert_exporter": "python",
   "pygments_lexer": "ipython3",
   "version": "3.11.4"
  }
 },
 "nbformat": 4,
 "nbformat_minor": 5
}
