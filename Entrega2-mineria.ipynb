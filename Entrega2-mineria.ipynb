{
 "cells": [
  {
   "cell_type": "markdown",
   "id": "c96e914d-34ea-4d4f-a327-66fd07aac60c",
   "metadata": {},
   "source": [
    "# Entrega 2 Proyecto Final – Primeros Análisis<br>\n",
    "#### Integrantes:\n",
    "- Daniel Cea\n",
    "- Cristobal Strange\n",
    "- Antonia Painen\n",
    "- Aleksander Humenyi"
   ]
  },
  {
   "cell_type": "markdown",
   "id": "cce26a9d-46a8-49d0-a782-7de1c84946bf",
   "metadata": {},
   "source": [
    "### 2.1. Definición del Problema\n",
    "\n",
    "En los últimos años, se ha registrado un notable incremento en los precios de las viviendas, lo que ha generado dificultades crecientes para que las personas puedan acceder a una propiedad. Esta situación ha llevado a que los potenciales compradores deban considerar más factores al momento de elegir una vivienda, con el fin de optimizar su inversión.\n",
    "\n",
    "El objetivo de este proyecto es proporcionar herramientas que ayuden a quienes están interesados en adquirir una vivienda en la Región Metropolitana. Utilizando análisis de datos, se busca generar información valiosa que permita a los compradores tomar decisiones más informadas y maximizar el valor de su compra en un contexto de mercado con precios al alza.\n",
    "\n",
    "En esta entrega del proyecto, nos enfocaremos en describir en detalle los datos disponibles, los cuales incluyen información sobre las viviendas en venta en la Región Metropolitana, y presentaremos un plan preliminar de análisis que será extendido en las fases siguientes. El análisis abarcará tanto características de ciertos patrones de precios, para identificar tendencias que puedan beneficiar a los futuros compradores.\n",
    "\n",
    "##### *¿Qué estrategias pueden emplear los compradores para maximizar el valor de su compra de vivienda en un mercado con precios en alza?*\n",
    "\n"
   ]
  },
  {
   "cell_type": "markdown",
   "id": "c6f2c19f-3a1d-47b5-a3ac-0e107101ada6",
   "metadata": {},
   "source": [
    "### 2.2. Impacto del Trabajo\n",
    "\n",
    "Dado el constante aumento en los precios de las viviendas, resulta cada vez más crucial para los compradores tomar decisiones informadas al momento de adquirir una propiedad. El mercado inmobiliario actual presenta desafíos significativos, especialmente en áreas urbanas donde la oferta es limitada y la demanda sigue creciendo. Por ello, conocer los factores que influyen en los precios y analizar las características de las viviendas disponibles se vuelve esencial para maximizar el valor de la inversión. En este contexto, contar con información precisa y actualizada puede marcar la diferencia entre una compra exitosa y una que no satisfaga las expectativas a largo plazo.\n"
   ]
  },
  {
   "cell_type": "markdown",
   "id": "3214c567-485a-4da8-956c-05b6bde96cc2",
   "metadata": {},
   "source": [
    "### 2.3. Datos\n",
    "Los datos que elegimos para el proyecto es sobre casas que se encuentran a la venta en la Región Metropolitana, estos datos fueron extraídos mediante web scraping a una página de publicación de viviendas en venta, [Chile Propiedades](https://chilepropiedades.cl), y los datos extraídos de la página los obtuvimos  [aquí.](https://www.kaggle.com/datasets/luisfelipetn/valor-casas-usadas-chile-rm-08032023)\n",
    "\n",
    "Este dataset es relevante para el análisis del mercado inmobiliario, ya que refleja características importantes para los compradores, como ubicación, precio, tamaño de las propiedades y cantidad de baños y habitaciones. Con esto tenemos una amplia gama de factores clave que influyen en los precios, permitiendo un análisis exhaustivo del comportamiento del mercado en un área de alta demanda y constante alza en los precios de vivienda."
   ]
  },
  {
   "cell_type": "code",
   "execution_count": 1,
   "id": "8e448966-e172-45af-a236-781442dbbf0e",
   "metadata": {},
   "outputs": [
    {
     "data": {
      "text/html": [
       "<div>\n",
       "<style scoped>\n",
       "    .dataframe tbody tr th:only-of-type {\n",
       "        vertical-align: middle;\n",
       "    }\n",
       "\n",
       "    .dataframe tbody tr th {\n",
       "        vertical-align: top;\n",
       "    }\n",
       "\n",
       "    .dataframe thead th {\n",
       "        text-align: right;\n",
       "    }\n",
       "</style>\n",
       "<table border=\"1\" class=\"dataframe\">\n",
       "  <thead>\n",
       "    <tr style=\"text-align: right;\">\n",
       "      <th></th>\n",
       "      <th>Price_CLP</th>\n",
       "      <th>Comuna</th>\n",
       "      <th>Dorms</th>\n",
       "      <th>Baths</th>\n",
       "      <th>Built Area</th>\n",
       "      <th>Total Area</th>\n",
       "      <th>Parking</th>\n",
       "      <th>Ubicacion</th>\n",
       "      <th>Realtor</th>\n",
       "    </tr>\n",
       "  </thead>\n",
       "  <tbody>\n",
       "    <tr>\n",
       "      <th>0</th>\n",
       "      <td>129884400</td>\n",
       "      <td>Lampa</td>\n",
       "      <td>3.0</td>\n",
       "      <td>2.0</td>\n",
       "      <td>68.0</td>\n",
       "      <td>221.0</td>\n",
       "      <td>1.0</td>\n",
       "      <td>AvenidaLaHacienda</td>\n",
       "      <td>Behouse</td>\n",
       "    </tr>\n",
       "    <tr>\n",
       "      <th>1</th>\n",
       "      <td>130000000</td>\n",
       "      <td>Buin</td>\n",
       "      <td>5.0</td>\n",
       "      <td>3.0</td>\n",
       "      <td>150.0</td>\n",
       "      <td>190.0</td>\n",
       "      <td>2.0</td>\n",
       "      <td>Villaseca</td>\n",
       "      <td>NaN</td>\n",
       "    </tr>\n",
       "    <tr>\n",
       "      <th>2</th>\n",
       "      <td>172998805</td>\n",
       "      <td>PuenteAlto</td>\n",
       "      <td>4.0</td>\n",
       "      <td>3.0</td>\n",
       "      <td>90.0</td>\n",
       "      <td>182.0</td>\n",
       "      <td>3.0</td>\n",
       "      <td>BarrioAustria</td>\n",
       "      <td>Bissac</td>\n",
       "    </tr>\n",
       "    <tr>\n",
       "      <th>3</th>\n",
       "      <td>135296250</td>\n",
       "      <td>Buin</td>\n",
       "      <td>3.0</td>\n",
       "      <td>2.0</td>\n",
       "      <td>85.0</td>\n",
       "      <td>175.0</td>\n",
       "      <td>1.0</td>\n",
       "      <td>ComercianteArmandoPérezCarrasco</td>\n",
       "      <td>Ambiento Propiedades</td>\n",
       "    </tr>\n",
       "    <tr>\n",
       "      <th>4</th>\n",
       "      <td>195000000</td>\n",
       "      <td>QuintaNormal</td>\n",
       "      <td>3.0</td>\n",
       "      <td>3.0</td>\n",
       "      <td>130.0</td>\n",
       "      <td>402.0</td>\n",
       "      <td>1.0</td>\n",
       "      <td>Hostos</td>\n",
       "      <td>Puntoinmobiliario.cl</td>\n",
       "    </tr>\n",
       "  </tbody>\n",
       "</table>\n",
       "</div>"
      ],
      "text/plain": [
       "   Price_CLP        Comuna  Dorms  Baths  Built Area  Total Area  Parking  \\\n",
       "0  129884400         Lampa    3.0    2.0        68.0       221.0      1.0   \n",
       "1  130000000          Buin    5.0    3.0       150.0       190.0      2.0   \n",
       "2  172998805    PuenteAlto    4.0    3.0        90.0       182.0      3.0   \n",
       "3  135296250          Buin    3.0    2.0        85.0       175.0      1.0   \n",
       "4  195000000  QuintaNormal    3.0    3.0       130.0       402.0      1.0   \n",
       "\n",
       "                         Ubicacion               Realtor  \n",
       "0                AvenidaLaHacienda               Behouse  \n",
       "1                        Villaseca                   NaN  \n",
       "2                    BarrioAustria                Bissac  \n",
       "3  ComercianteArmandoPérezCarrasco  Ambiento Propiedades  \n",
       "4                           Hostos  Puntoinmobiliario.cl  "
      ]
     },
     "execution_count": 1,
     "metadata": {},
     "output_type": "execute_result"
    }
   ],
   "source": [
    "import pandas as pd\n",
    "import seaborn as sns\n",
    "import numpy as np\n",
    "df = pd.read_csv(\"Data/2023-07-18 Propiedades Web Scrape.csv\")\n",
    "df = df[[\"Price_CLP\",\"Comuna\",\"Dorms\",\"Baths\",\"Built Area\",\"Total Area\",\"Parking\",\"Ubicacion\",\"Realtor\"]]\n",
    "df.head()"
   ]
  },
  {
   "cell_type": "code",
   "execution_count": 2,
   "id": "29b22c0f-0f8a-42c8-9ec6-d11f513d322f",
   "metadata": {},
   "outputs": [
    {
     "data": {
      "text/html": [
       "<div>\n",
       "<style scoped>\n",
       "    .dataframe tbody tr th:only-of-type {\n",
       "        vertical-align: middle;\n",
       "    }\n",
       "\n",
       "    .dataframe tbody tr th {\n",
       "        vertical-align: top;\n",
       "    }\n",
       "\n",
       "    .dataframe thead th {\n",
       "        text-align: right;\n",
       "    }\n",
       "</style>\n",
       "<table border=\"1\" class=\"dataframe\">\n",
       "  <thead>\n",
       "    <tr style=\"text-align: right;\">\n",
       "      <th></th>\n",
       "      <th>Price_CLP</th>\n",
       "      <th>Comuna</th>\n",
       "      <th>Dorms</th>\n",
       "      <th>Baths</th>\n",
       "      <th>Built Area</th>\n",
       "      <th>Total Area</th>\n",
       "      <th>Parking</th>\n",
       "      <th>Ubicacion</th>\n",
       "      <th>Realtor</th>\n",
       "    </tr>\n",
       "  </thead>\n",
       "  <tbody>\n",
       "    <tr>\n",
       "      <th>1464</th>\n",
       "      <td>155.13970</td>\n",
       "      <td>Paine</td>\n",
       "      <td>NaN</td>\n",
       "      <td>NaN</td>\n",
       "      <td>50000000.0</td>\n",
       "      <td>5000.0</td>\n",
       "      <td>NaN</td>\n",
       "      <td>18deseptiemrecohuelquem</td>\n",
       "      <td>Corredores Asociados</td>\n",
       "    </tr>\n",
       "    <tr>\n",
       "      <th>313</th>\n",
       "      <td>257.96485</td>\n",
       "      <td>Paine</td>\n",
       "      <td>6.0</td>\n",
       "      <td>3.0</td>\n",
       "      <td>2710000.0</td>\n",
       "      <td>5400.0</td>\n",
       "      <td>5.0</td>\n",
       "      <td>Hermosaparcelaconpiscinaenpaine</td>\n",
       "      <td>Movahome Corredores Integrados</td>\n",
       "    </tr>\n",
       "    <tr>\n",
       "      <th>717</th>\n",
       "      <td>130.00000</td>\n",
       "      <td>Cerrillos</td>\n",
       "      <td>3.0</td>\n",
       "      <td>1.0</td>\n",
       "      <td>120000.0</td>\n",
       "      <td>300000.0</td>\n",
       "      <td>2.0</td>\n",
       "      <td>Av.LosCerrillos639</td>\n",
       "      <td>orietta alvarez lobos</td>\n",
       "    </tr>\n",
       "    <tr>\n",
       "      <th>2611</th>\n",
       "      <td>90.00000</td>\n",
       "      <td>Renca</td>\n",
       "      <td>3.0</td>\n",
       "      <td>2.0</td>\n",
       "      <td>100350.0</td>\n",
       "      <td>80980.0</td>\n",
       "      <td>1.0</td>\n",
       "      <td>CampañadeTacna1595</td>\n",
       "      <td>NaN</td>\n",
       "    </tr>\n",
       "    <tr>\n",
       "      <th>2228</th>\n",
       "      <td>2164.74000</td>\n",
       "      <td>SanJosédeMaipo</td>\n",
       "      <td>14.0</td>\n",
       "      <td>NaN</td>\n",
       "      <td>60000.0</td>\n",
       "      <td>60000.0</td>\n",
       "      <td>NaN</td>\n",
       "      <td>Casamaipo</td>\n",
       "      <td>Invictus Spa</td>\n",
       "    </tr>\n",
       "  </tbody>\n",
       "</table>\n",
       "</div>"
      ],
      "text/plain": [
       "       Price_CLP          Comuna  Dorms  Baths  Built Area  Total Area  \\\n",
       "1464   155.13970           Paine    NaN    NaN  50000000.0      5000.0   \n",
       "313    257.96485           Paine    6.0    3.0   2710000.0      5400.0   \n",
       "717    130.00000       Cerrillos    3.0    1.0    120000.0    300000.0   \n",
       "2611    90.00000           Renca    3.0    2.0    100350.0     80980.0   \n",
       "2228  2164.74000  SanJosédeMaipo   14.0    NaN     60000.0     60000.0   \n",
       "\n",
       "      Parking                        Ubicacion                         Realtor  \n",
       "1464      NaN          18deseptiemrecohuelquem            Corredores Asociados  \n",
       "313       5.0  Hermosaparcelaconpiscinaenpaine  Movahome Corredores Integrados  \n",
       "717       2.0               Av.LosCerrillos639           orietta alvarez lobos  \n",
       "2611      1.0               CampañadeTacna1595                             NaN  \n",
       "2228      NaN                        Casamaipo                    Invictus Spa  "
      ]
     },
     "execution_count": 2,
     "metadata": {},
     "output_type": "execute_result"
    }
   ],
   "source": [
    "df = pd.read_csv(\"Data/2023-07-18 Propiedades Web Scrape.csv\")\n",
    "df = df[[\"Price_CLP\",\"Comuna\",\"Dorms\",\"Baths\",\"Built Area\",\"Total Area\",\"Parking\",\"Ubicacion\",\"Realtor\"]]\n",
    "\n",
    "df = df[df[\"Price_CLP\"].notna()]\n",
    "df = df.sort_values(by=\"Built Area\", ascending=False)\n",
    "df[\"Price_CLP\"] = df[\"Price_CLP\"].map(lambda x:x / 1000000)\n",
    "\n",
    "df.head()"
   ]
  },
  {
   "cell_type": "code",
   "execution_count": 3,
   "id": "af2b0cb1-05e0-4a27-9d70-d2fafdd38dcc",
   "metadata": {},
   "outputs": [
    {
     "data": {
      "text/plain": [
       "<Axes: xlabel='Price_CLP', ylabel='Count'>"
      ]
     },
     "execution_count": 3,
     "metadata": {},
     "output_type": "execute_result"
    },
    {
     "data": {
      "image/png": "[encoded data removed]",
      "text/plain": [
       "<Figure size 640x480 with 1 Axes>"
      ]
     },
     "metadata": {},
     "output_type": "display_data"
    }
   ],
   "source": [
    "sns.histplot(df[\"Price_CLP\"], stat=\"count\")"
   ]
  },
  {
   "cell_type": "code",
   "execution_count": 4,
   "id": "3a1ec338-58ca-4d93-810a-98633eb70f4c",
   "metadata": {},
   "outputs": [
    {
     "data": {
      "text/plain": [
       "<Axes: ylabel='Price_CLP'>"
      ]
     },
     "execution_count": 4,
     "metadata": {},
     "output_type": "execute_result"
    },
    {
     "data": {
      "image/png": "[encoded data removed]",
      "text/plain": [
       "<Figure size 640x480 with 1 Axes>"
      ]
     },
     "metadata": {},
     "output_type": "display_data"
    }
   ],
   "source": [
    "sns.boxenplot(df[\"Price_CLP\"])"
   ]
  },
  {
   "cell_type": "code",
   "execution_count": 5,
   "id": "1f575e82-8de6-4882-b917-382c3b3ef983",
   "metadata": {},
   "outputs": [
    {
     "data": {
      "text/plain": [
       "<Axes: ylabel='Dorms'>"
      ]
     },
     "execution_count": 5,
     "metadata": {},
     "output_type": "execute_result"
    },
    {
     "data": {
      "image/png": "[encoded data removed]",
      "text/plain": [
       "<Figure size 640x480 with 1 Axes>"
      ]
     },
     "metadata": {},
     "output_type": "display_data"
    }
   ],
   "source": [
    "sns.boxenplot(df[\"Dorms\"])"
   ]
  },
  {
   "cell_type": "code",
   "execution_count": 6,
   "id": "6c36b76d-cccb-4ed1-ba3e-551e58187d7a",
   "metadata": {},
   "outputs": [
    {
     "data": {
      "text/plain": [
       "<Axes: ylabel='Baths'>"
      ]
     },
     "execution_count": 6,
     "metadata": {},
     "output_type": "execute_result"
    },
    {
     "data": {
      "image/png": "[encoded data removed]",
      "text/plain": [
       "<Figure size 640x480 with 1 Axes>"
      ]
     },
     "metadata": {},
     "output_type": "display_data"
    }
   ],
   "source": [
    "sns.boxenplot(df[\"Baths\"])"
   ]
  },
  {
   "cell_type": "code",
   "execution_count": 7,
   "id": "bcec50ac-19c7-496f-8237-a0871ab6e9c1",
   "metadata": {},
   "outputs": [
    {
     "data": {
      "text/plain": [
       "<Axes: ylabel='Built Area'>"
      ]
     },
     "execution_count": 7,
     "metadata": {},
     "output_type": "execute_result"
    },
    {
     "data": {
      "image/png": "[encoded data removed]",
      "text/plain": [
       "<Figure size 640x480 with 1 Axes>"
      ]
     },
     "metadata": {},
     "output_type": "display_data"
    }
   ],
   "source": [
    "sns.boxenplot(df[df[\"Built Area\"] < df[\"Built Area\"].quantile(.95)][\"Built Area\"]) # Sin considerar unos outliers grandísimos que dejaban casi inútil el gráfico"
   ]
  },
  {
   "cell_type": "code",
   "execution_count": 8,
   "id": "d89155c2-733f-413b-a07e-893ad24af19c",
   "metadata": {},
   "outputs": [
    {
     "data": {
      "text/plain": [
       "<Axes: ylabel='Parking'>"
      ]
     },
     "execution_count": 8,
     "metadata": {},
     "output_type": "execute_result"
    },
    {
     "data": {
      "image/png": "[encoded data removed]",
      "text/plain": [
       "<Figure size 640x480 with 1 Axes>"
      ]
     },
     "metadata": {},
     "output_type": "display_data"
    }
   ],
   "source": [
    "sns.boxenplot(df[\"Parking\"])"
   ]
  },
  {
   "cell_type": "code",
   "execution_count": 9,
   "id": "fc4d46d1-b3e2-4f95-aff0-e3653de0c6ec",
   "metadata": {
    "scrolled": true
   },
   "outputs": [
    {
     "data": {
      "text/html": [
       "<div>\n",
       "<style scoped>\n",
       "    .dataframe tbody tr th:only-of-type {\n",
       "        vertical-align: middle;\n",
       "    }\n",
       "\n",
       "    .dataframe tbody tr th {\n",
       "        vertical-align: top;\n",
       "    }\n",
       "\n",
       "    .dataframe thead th {\n",
       "        text-align: right;\n",
       "    }\n",
       "</style>\n",
       "<table border=\"1\" class=\"dataframe\">\n",
       "  <thead>\n",
       "    <tr style=\"text-align: right;\">\n",
       "      <th></th>\n",
       "      <th>Price_CLP</th>\n",
       "      <th>Dorms</th>\n",
       "      <th>Baths</th>\n",
       "      <th>Built Area</th>\n",
       "      <th>Total Area</th>\n",
       "      <th>Parking</th>\n",
       "    </tr>\n",
       "  </thead>\n",
       "  <tbody>\n",
       "    <tr>\n",
       "      <th>count</th>\n",
       "      <td>9291.000000</td>\n",
       "      <td>9202.000000</td>\n",
       "      <td>9138.000000</td>\n",
       "      <td>9.013000e+03</td>\n",
       "      <td>9057.000000</td>\n",
       "      <td>6371.000000</td>\n",
       "    </tr>\n",
       "    <tr>\n",
       "      <th>mean</th>\n",
       "      <td>392.513380</td>\n",
       "      <td>4.027059</td>\n",
       "      <td>2.749726</td>\n",
       "      <td>6.091603e+03</td>\n",
       "      <td>890.977145</td>\n",
       "      <td>2.682467</td>\n",
       "    </tr>\n",
       "    <tr>\n",
       "      <th>std</th>\n",
       "      <td>403.651503</td>\n",
       "      <td>1.661439</td>\n",
       "      <td>1.478629</td>\n",
       "      <td>5.274367e+05</td>\n",
       "      <td>11291.403141</td>\n",
       "      <td>2.221227</td>\n",
       "    </tr>\n",
       "    <tr>\n",
       "      <th>min</th>\n",
       "      <td>37.000000</td>\n",
       "      <td>1.000000</td>\n",
       "      <td>1.000000</td>\n",
       "      <td>1.000000e+00</td>\n",
       "      <td>1.000000</td>\n",
       "      <td>1.000000</td>\n",
       "    </tr>\n",
       "    <tr>\n",
       "      <th>25%</th>\n",
       "      <td>128.206727</td>\n",
       "      <td>3.000000</td>\n",
       "      <td>2.000000</td>\n",
       "      <td>9.000000e+01</td>\n",
       "      <td>134.000000</td>\n",
       "      <td>1.000000</td>\n",
       "    </tr>\n",
       "    <tr>\n",
       "      <th>50%</th>\n",
       "      <td>234.513500</td>\n",
       "      <td>4.000000</td>\n",
       "      <td>3.000000</td>\n",
       "      <td>1.310000e+02</td>\n",
       "      <td>230.000000</td>\n",
       "      <td>2.000000</td>\n",
       "    </tr>\n",
       "    <tr>\n",
       "      <th>75%</th>\n",
       "      <td>526.753400</td>\n",
       "      <td>5.000000</td>\n",
       "      <td>3.000000</td>\n",
       "      <td>2.090000e+02</td>\n",
       "      <td>480.000000</td>\n",
       "      <td>3.000000</td>\n",
       "    </tr>\n",
       "    <tr>\n",
       "      <th>max</th>\n",
       "      <td>4870.665000</td>\n",
       "      <td>35.000000</td>\n",
       "      <td>29.000000</td>\n",
       "      <td>5.000000e+07</td>\n",
       "      <td>720000.000000</td>\n",
       "      <td>26.000000</td>\n",
       "    </tr>\n",
       "  </tbody>\n",
       "</table>\n",
       "</div>"
      ],
      "text/plain": [
       "         Price_CLP        Dorms        Baths    Built Area     Total Area  \\\n",
       "count  9291.000000  9202.000000  9138.000000  9.013000e+03    9057.000000   \n",
       "mean    392.513380     4.027059     2.749726  6.091603e+03     890.977145   \n",
       "std     403.651503     1.661439     1.478629  5.274367e+05   11291.403141   \n",
       "min      37.000000     1.000000     1.000000  1.000000e+00       1.000000   \n",
       "25%     128.206727     3.000000     2.000000  9.000000e+01     134.000000   \n",
       "50%     234.513500     4.000000     3.000000  1.310000e+02     230.000000   \n",
       "75%     526.753400     5.000000     3.000000  2.090000e+02     480.000000   \n",
       "max    4870.665000    35.000000    29.000000  5.000000e+07  720000.000000   \n",
       "\n",
       "           Parking  \n",
       "count  6371.000000  \n",
       "mean      2.682467  \n",
       "std       2.221227  \n",
       "min       1.000000  \n",
       "25%       1.000000  \n",
       "50%       2.000000  \n",
       "75%       3.000000  \n",
       "max      26.000000  "
      ]
     },
     "execution_count": 9,
     "metadata": {},
     "output_type": "execute_result"
    }
   ],
   "source": [
    "df.describe()"
   ]
  },
  {
   "cell_type": "markdown",
   "id": "846762ef-981a-4f9a-817c-6a5e825372a3",
   "metadata": {},
   "source": [
    "# 2.4\n",
    "\n",
    "## ¿Qué información se tiene y no se tiene?\n",
    "\n",
    "Tenemos Precio, dormitorio baño, aŕea construida y estacionamientos, pero sólo de casas, no de departamentos, además, de acuerdo con la documentación de los datos estas casas sólo son casas usadas, aunque probablemente no sea el caso de todas.\n",
    "\n",
    "## ¿Cuántas observaciones hay?\n",
    "Hay 9291 registros con un precio válido. \n",
    "\n",
    "## ¿Son los atributos independientes entre sí?\n",
    "Los atributos no son independientes, ya que realmente el precio de una propiedad está muy relacionado con el indicador del área, y al tener más área lógicamente tendrá mas espacio para alojar más gente, que necesitará a su vez donde dormir y suplir sus necesidades."
   ]
  },
  {
   "cell_type": "markdown",
   "id": "cbf1f07e-1199-48b3-9fdf-5e75b684d251",
   "metadata": {},
   "source": [
    "### 2.5. Primera Respuesta al Problema o Pregunta\n",
    "\n",
    "- ¿Por qué era adecuado el trabajo realizado para mi proyecto?\n",
    "\n",
    "La finalidad del trabajo realizado es comprender el mercado inmobiliario actual en chile y poder tomar decisiones de manera informada. El analisis inicial permite visualizar de mejor manera ciertas variables y caracteristicas de las viviendas y con eso comprender tendencias y las ofertas existentes.\n",
    "- ¿Qué limitaciones tiene mi análisis? ¿Cómo se podría mejorar o solventar algunas de esas limitaciones?\n",
    "\n",
    "Las principales limitaciones vienen de la mano de los datos, ya que actuelmente se está trabajando con una base de datos, proveniente de una sola pagina web, por lo que puede haber información y ofertas de viviendas que estamos dejando de lado. También se puede perder fluctuaciones de precio a lo largo del tiempo, que es una variable clave al momento de toamr una decisión de inversión de gran magnitud. Finalmente no se están considerando factores como \"servicios cercadnos\", \"áreas verdes\", \"accesibilidad\", etc. \n",
    "\n",
    "La manera de mitigar estos problemas podrías ser, realizar analisis geoespacial, junto con complemntear los datos con otras paginas web.\n",
    "\n",
    "- ¿Necesito más datos para mi proyecto?\n",
    "\n",
    "De todas maneras el aumento de datos puede ser beneficioso para el proyecto, esto permite mejores correlaciones y aporta a una mejor comprensión del problema. Puede tener un lado negativo, que sería el aumento en el tiempo de analisis, pero siempre será más relevante un mejor y más profundo analisis, antes que uno superficial.\n",
    "\n",
    "- ¿Necesito más análisis para mi proyecto?\n",
    "\n",
    "Como comentamos anteriormente, se podría profundizar el analisis con un estudio zonal de las viviendas, junto con un estudio de las fluctuaciones de precios en el tiempo. "
   ]
  }
 ],
 "metadata": {
  "kernelspec": {
   "display_name": "Python 3 (ipykernel)",
   "language": "python",
   "name": "python3"
  },
  "language_info": {
   "codemirror_mode": {
    "name": "ipython",
    "version": 3
   },
   "file_extension": ".py",
   "mimetype": "text/x-python",
   "name": "python",
   "nbconvert_exporter": "python",
   "pygments_lexer": "ipython3",
   "version": "3.10.12"
  }
 },
 "nbformat": 4,
 "nbformat_minor": 5
}
